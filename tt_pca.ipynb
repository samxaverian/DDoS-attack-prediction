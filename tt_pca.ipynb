{
 "cells": [
  {
   "cell_type": "markdown",
   "metadata": {},
   "source": [
    "## PCA on both test and train datasets\n",
    "### test data has been transformed wrt to the train data principal components"
   ]
  },
  {
   "cell_type": "code",
   "execution_count": 1,
   "metadata": {
    "vscode": {
     "languageId": "python"
    }
   },
   "outputs": [],
   "source": [
    "import dask.dataframe as dd\n",
    "import matplotlib.pyplot as plt\n",
    "import numpy as np\n",
    "import pandas as pd\n",
    "import seaborn as sns\n",
    "import gc\n",
    "from sklearn.decomposition import PCA\n",
    "from sklearn.preprocessing import StandardScaler"
   ]
  },
  {
   "cell_type": "markdown",
   "metadata": {},
   "source": [
    "### working on the training data"
   ]
  },
  {
   "cell_type": "code",
   "execution_count": 2,
   "metadata": {
    "vscode": {
     "languageId": "python"
    }
   },
   "outputs": [],
   "source": [
    "train_data = dd.read_csv('/home/aban/somu/review-2/processed_data.csv')\n",
    "train_data = train_data.drop(['Unnamed: 0'],axis=1)\n",
    "train_data.columns = ['Dst Port', 'Protocol', 'Flow Duration', 'Tot Fwd Pkts', 'Tot Bwd Pkts',\n",
    "       'TotLen Fwd Pkts', 'Fwd Pkt Len Max', 'Fwd Pkt Len Min',\n",
    "       'Fwd Pkt Len Mean', 'Bwd Pkt Len Max', 'Bwd Pkt Len Min',\n",
    "       'Bwd Pkt Len Mean', 'Flow Byts/s', 'Flow Pkts/s', 'Flow IAT Mean',\n",
    "       'Flow IAT Std', 'Flow IAT Max', 'Flow IAT Min', 'Bwd IAT Tot',\n",
    "       'Bwd IAT Mean', 'Bwd IAT Std', 'Bwd IAT Max', 'Bwd IAT Min',\n",
    "       'Fwd PSH Flags', 'Fwd URG Flags', 'Fwd Pkts/s', 'Bwd Pkts/s',\n",
    "       'Pkt Len Min', 'Pkt Len Mean', 'Pkt Len Std', 'Pkt Len Var',\n",
    "       'FIN Flag Cnt', 'RST Flag Cnt', 'PSH Flag Cnt', 'ACK Flag Cnt',\n",
    "       'URG Flag Cnt', 'Down/Up Ratio', 'Fwd Seg Size Avg',\n",
    "       'Init Fwd Win Byts', 'Init Bwd Win Byts', 'Fwd Seg Size Min',\n",
    "       'Active Mean', 'Active Std', 'Active Max', 'Active Min', 'Idle Min','Label']\n",
    "train_data = train_data.astype({'Label': np.int8}).compute()\n",
    "\n",
    "x_train = train_data.iloc[:,0:46]\n",
    "y_train = train_data['Label']\n"
   ]
  },
  {
   "cell_type": "markdown",
   "metadata": {},
   "source": [
    "### standardization of the train dataset (Zero-centering of the data)"
   ]
  },
  {
   "cell_type": "code",
   "execution_count": 3,
   "metadata": {
    "vscode": {
     "languageId": "python"
    }
   },
   "outputs": [],
   "source": [
    "scaler = StandardScaler()\n",
    "scaler.fit(x_train)\n",
    "scaled_train = scaler.transform(x_train)\n"
   ]
  },
  {
   "cell_type": "markdown",
   "metadata": {},
   "source": [
    "### Finding the 'k' principal components which can retain 95% of the variance"
   ]
  },
  {
   "cell_type": "code",
   "execution_count": null,
   "metadata": {
    "vscode": {
     "languageId": "python"
    }
   },
   "outputs": [],
   "source": [
    "Covar = np.cov(scaled_train,rowvar=False)\n",
    "u,s,v = np.linalg.svd(Covar)\n",
    "vs = np.sum(s)\n"
   ]
  },
  {
   "cell_type": "code",
   "execution_count": 4,
   "metadata": {
    "vscode": {
     "languageId": "python"
    }
   },
   "outputs": [],
   "source": [
    "def find_k(s):\n",
    "    ss =0\n",
    "    k = 0\n",
    "    for i in s:\n",
    "        k = k+1\n",
    "        ss = ss + i\n",
    "        #print(ss/vs)\n",
    "        if(ss/vs>=0.95):\n",
    "            return k\n"
   ]
  },
  {
   "cell_type": "code",
   "execution_count": 5,
   "metadata": {
    "vscode": {
     "languageId": "python"
    }
   },
   "outputs": [
    {
     "name": "stdout",
     "output_type": "stream",
     "text": [
      "24\n"
     ]
    }
   ],
   "source": [
    "k = find_k(s)\n",
    "print(k)"
   ]
  },
  {
   "cell_type": "markdown",
   "metadata": {},
   "source": [
    "### working on the test data"
   ]
  },
  {
   "cell_type": "code",
   "execution_count": 6,
   "metadata": {
    "vscode": {
     "languageId": "python"
    }
   },
   "outputs": [],
   "source": [
    "test_data = pd.read_csv('/home/aban/somu/review-2/test_togive.csv')\n",
    "test_data = test_data[['Dst Port', 'Protocol', 'Flow Duration', 'Tot Fwd Pkts', 'Tot Bwd Pkts','TotLen Fwd Pkts', 'Fwd Pkt Len Max', 'Fwd Pkt Len Min','Fwd Pkt Len Mean', 'Bwd Pkt Len Max', 'Bwd Pkt Len Min','Bwd Pkt Len Mean', 'Flow Byts/s', 'Flow Pkts/s', 'Flow IAT Mean','Flow IAT Std', 'Flow IAT Max', 'Flow IAT Min', 'Bwd IAT Tot','Bwd IAT Mean', 'Bwd IAT Std', 'Bwd IAT Max', 'Bwd IAT Min','Fwd PSH Flags', 'Fwd URG Flags', 'Fwd Pkts/s', 'Bwd Pkts/s','Pkt Len Min', 'Pkt Len Mean', 'Pkt Len Std', 'Pkt Len Var','FIN Flag Cnt', 'RST Flag Cnt', 'PSH Flag Cnt', 'ACK Flag Cnt','URG Flag Cnt', 'Down/Up Ratio', 'Fwd Seg Size Avg','Init Fwd Win Byts', 'Init Bwd Win Byts', 'Fwd Seg Size Min','Active Mean', 'Active Std', 'Active Max', 'Active Min','Idle Min']]\n",
    "# for column in test_data:\n",
    "#  if test_data[column].dtype == 'float64':\n",
    "#      test_data[column]=pd.to_numeric(test_data[column], downcast='float')\n",
    "#  if test_data[column].dtype == 'int64':\n",
    "#      test_data[column]=pd.to_numeric(test_data[column], downcast='integer')\n",
    "\n"
   ]
  },
  {
   "cell_type": "code",
   "execution_count": 7,
   "metadata": {
    "vscode": {
     "languageId": "python"
    }
   },
   "outputs": [],
   "source": [
    "test_desc = test_data.describe()"
   ]
  },
  {
   "cell_type": "code",
   "execution_count": 9,
   "metadata": {
    "vscode": {
     "languageId": "python"
    }
   },
   "outputs": [
    {
     "name": "stdout",
     "output_type": "stream",
     "text": [
      "count    1000000.000000\n",
      "mean        8976.166102\n",
      "std        18751.140849\n",
      "min            0.000000\n",
      "25%           53.000000\n",
      "50%           80.000000\n",
      "75%         3389.000000\n",
      "max        65534.000000\n",
      "Name: Dst Port, dtype: float64\n",
      "count    1000000.000000\n",
      "mean           8.766909\n",
      "std            4.928834\n",
      "min            0.000000\n",
      "25%            6.000000\n",
      "50%            6.000000\n",
      "75%           17.000000\n",
      "max           17.000000\n",
      "Name: Protocol, dtype: float64\n",
      "count    1.000000e+06\n",
      "mean     1.128385e+07\n",
      "std      9.195424e+08\n",
      "min     -9.190110e+11\n",
      "25%      5.060000e+02\n",
      "50%      2.197350e+04\n",
      "75%      3.005524e+06\n",
      "max      1.200000e+08\n",
      "Name: Flow Duration, dtype: float64\n",
      "count    1000000.000000\n",
      "mean          24.694678\n",
      "std         1599.647020\n",
      "min            1.000000\n",
      "25%            1.000000\n",
      "50%            2.000000\n",
      "75%            5.000000\n",
      "max       243585.000000\n",
      "Name: Tot Fwd Pkts, dtype: float64\n",
      "count    1000000.000000\n",
      "mean           6.577036\n",
      "std          170.671400\n",
      "min            0.000000\n",
      "25%            0.000000\n",
      "50%            1.000000\n",
      "75%            4.000000\n",
      "max        43878.000000\n",
      "Name: Tot Bwd Pkts, dtype: float64\n",
      "count    1.000000e+06\n",
      "mean     9.828478e+02\n",
      "std      5.118052e+04\n",
      "min      0.000000e+00\n",
      "25%      0.000000e+00\n",
      "50%      4.300000e+01\n",
      "75%      4.590000e+02\n",
      "max      7.794720e+06\n",
      "Name: TotLen Fwd Pkts, dtype: float64\n",
      "count    1000000.000000\n",
      "mean         201.122778\n",
      "std          300.450519\n",
      "min            0.000000\n",
      "25%            0.000000\n",
      "50%           41.000000\n",
      "75%          309.000000\n",
      "max         5647.000000\n",
      "Name: Fwd Pkt Len Max, dtype: float64\n",
      "count    1000000.000000\n",
      "mean          11.131646\n",
      "std           24.217692\n",
      "min            0.000000\n",
      "25%            0.000000\n",
      "50%            0.000000\n",
      "75%           30.000000\n",
      "max         1460.000000\n",
      "Name: Fwd Pkt Len Min, dtype: float64\n",
      "count    1000000.000000\n",
      "mean          50.432681\n",
      "std           59.696943\n",
      "min            0.000000\n",
      "25%            0.000000\n",
      "50%           36.000000\n",
      "75%           67.533333\n",
      "max         1808.419048\n",
      "Name: Fwd Pkt Len Mean, dtype: float64\n",
      "count    1000000.000000\n",
      "mean         351.510548\n",
      "std          496.880965\n",
      "min            0.000000\n",
      "25%            0.000000\n",
      "50%           96.000000\n",
      "75%          488.000000\n",
      "max         2920.000000\n",
      "Name: Bwd Pkt Len Max, dtype: float64\n",
      "count    1000000.000000\n",
      "mean          26.634394\n",
      "std           51.071957\n",
      "min            0.000000\n",
      "25%            0.000000\n",
      "50%            0.000000\n",
      "75%           48.000000\n",
      "max         1368.000000\n",
      "Name: Bwd Pkt Len Min, dtype: float64\n",
      "count    1000000.000000\n",
      "mean         113.569957\n",
      "std          163.836625\n",
      "min            0.000000\n",
      "25%            0.000000\n",
      "50%           67.000000\n",
      "75%          163.000000\n",
      "max         1827.134615\n",
      "Name: Bwd Pkt Len Mean, dtype: float64\n",
      "count    1.000000e+06\n",
      "mean              inf\n",
      "std               NaN\n",
      "min      0.000000e+00\n",
      "25%      0.000000e+00\n",
      "50%      7.918678e+02\n",
      "75%      7.109355e+04\n",
      "max               inf\n",
      "Name: Flow Byts/s, dtype: float64\n",
      "count    1.000000e+06\n",
      "mean              inf\n",
      "std               NaN\n",
      "min     -8.813823e-05\n",
      "25%      5.106323e+00\n",
      "50%      1.389178e+02\n",
      "75%      5.540166e+03\n",
      "max               inf\n",
      "Name: Flow Pkts/s, dtype: float64\n",
      "count    1.000000e+06\n",
      "mean     3.412126e+06\n",
      "std      1.797601e+07\n",
      "min     -1.148764e+10\n",
      "25%      3.280000e+02\n",
      "50%      1.198000e+04\n",
      "75%      2.192526e+05\n",
      "max      1.200000e+08\n",
      "Name: Flow IAT Mean, dtype: float64\n",
      "count    1.000000e+06\n",
      "mean     1.371194e+06\n",
      "std      3.831823e+08\n",
      "min      0.000000e+00\n",
      "25%      0.000000e+00\n",
      "50%      6.929646e+01\n",
      "75%      2.457520e+05\n",
      "max      3.831664e+11\n",
      "Name: Flow IAT Std, dtype: float64\n",
      "count    1.000000e+06\n",
      "mean     6.922401e+06\n",
      "std      7.550371e+08\n",
      "min      0.000000e+00\n",
      "25%      4.060000e+02\n",
      "50%      1.903700e+04\n",
      "75%      1.078377e+06\n",
      "max      7.548470e+11\n",
      "Name: Flow IAT Max, dtype: float64\n",
      "count    1.000000e+06\n",
      "mean     2.106391e+06\n",
      "std      8.803741e+08\n",
      "min     -8.802630e+11\n",
      "25%      5.000000e+00\n",
      "50%      5.300000e+01\n",
      "75%      9.320000e+02\n",
      "max      1.200000e+08\n",
      "Name: Flow IAT Min, dtype: float64\n",
      "count    1.000000e+06\n",
      "mean     7.586958e+06\n",
      "std      2.582675e+07\n",
      "min      0.000000e+00\n",
      "25%      0.000000e+00\n",
      "50%      0.000000e+00\n",
      "75%      5.710638e+05\n",
      "max      1.200000e+08\n",
      "Name: Bwd IAT Tot, dtype: float64\n",
      "count    1.000000e+06\n",
      "mean     8.243818e+05\n",
      "std      4.346974e+06\n",
      "min      0.000000e+00\n",
      "25%      0.000000e+00\n",
      "50%      0.000000e+00\n",
      "75%      1.675136e+05\n",
      "max      1.199278e+08\n",
      "Name: Bwd IAT Mean, dtype: float64\n",
      "count    1.000000e+06\n",
      "mean     8.473297e+05\n",
      "std      3.367198e+06\n",
      "min      0.000000e+00\n",
      "25%      0.000000e+00\n",
      "50%      0.000000e+00\n",
      "75%      3.880929e+04\n",
      "max      8.473596e+07\n",
      "Name: Bwd IAT Std, dtype: float64\n",
      "count    1.000000e+06\n",
      "mean     2.598956e+06\n",
      "std      1.020376e+07\n",
      "min      0.000000e+00\n",
      "25%      0.000000e+00\n",
      "50%      0.000000e+00\n",
      "75%      2.218960e+05\n",
      "max      1.200000e+08\n",
      "Name: Bwd IAT Max, dtype: float64\n",
      "count    1.000000e+06\n",
      "mean     2.919573e+05\n",
      "std      3.831961e+06\n",
      "min      0.000000e+00\n",
      "25%      0.000000e+00\n",
      "50%      0.000000e+00\n",
      "75%      1.770000e+02\n",
      "max      1.199278e+08\n",
      "Name: Bwd IAT Min, dtype: float64\n",
      "count    1000000.000000\n",
      "mean           0.044147\n",
      "std            0.205422\n",
      "min            0.000000\n",
      "25%            0.000000\n",
      "50%            0.000000\n",
      "75%            0.000000\n",
      "max            1.000000\n",
      "Name: Fwd PSH Flags, dtype: float64\n",
      "count    1000000.000000\n",
      "mean           0.000151\n",
      "std            0.012287\n",
      "min            0.000000\n",
      "25%            0.000000\n",
      "50%            0.000000\n",
      "75%            0.000000\n",
      "max            1.000000\n",
      "Name: Fwd URG Flags, dtype: float64\n",
      "count    1.000000e+06\n",
      "mean     3.685922e+04\n",
      "std      2.141936e+05\n",
      "min      0.000000e+00\n",
      "25%      2.650464e+00\n",
      "50%      7.574036e+01\n",
      "75%      3.174603e+03\n",
      "max      5.000000e+06\n",
      "Name: Fwd Pkts/s, dtype: float64\n",
      "count    1.000000e+06\n",
      "mean     1.533127e+04\n",
      "std      9.237922e+04\n",
      "min      0.000000e+00\n",
      "25%      0.000000e+00\n",
      "50%      3.757119e+00\n",
      "75%      8.027294e+02\n",
      "max      2.000000e+06\n",
      "Name: Bwd Pkts/s, dtype: float64\n",
      "count    1000000.000000\n",
      "mean          11.008225\n",
      "std           22.953253\n",
      "min            0.000000\n",
      "25%            0.000000\n",
      "50%            0.000000\n",
      "75%           29.000000\n",
      "max         1460.000000\n",
      "Name: Pkt Len Min, dtype: float64\n",
      "count    1000000.000000\n",
      "mean          77.904094\n",
      "std          103.490260\n",
      "min            0.000000\n",
      "25%            0.000000\n",
      "50%           52.333333\n",
      "75%          127.900000\n",
      "max         1460.000000\n",
      "Name: Pkt Len Mean, dtype: float64\n",
      "count    1000000.000000\n",
      "mean         121.863433\n",
      "std          162.270178\n",
      "min            0.000000\n",
      "25%            0.000000\n",
      "50%           32.908965\n",
      "75%          288.738012\n",
      "max         1285.542272\n",
      "Name: Pkt Len Std, dtype: float64\n",
      "count    1.000000e+06\n",
      "mean     4.118228e+04\n",
      "std      7.818612e+04\n",
      "min      0.000000e+00\n",
      "25%      0.000000e+00\n",
      "50%      1.083000e+03\n",
      "75%      8.336964e+04\n",
      "max      1.652619e+06\n",
      "Name: Pkt Len Var, dtype: float64\n",
      "count    1000000.000000\n",
      "mean           0.004315\n",
      "std            0.065547\n",
      "min            0.000000\n",
      "25%            0.000000\n",
      "50%            0.000000\n",
      "75%            0.000000\n",
      "max            1.000000\n",
      "Name: FIN Flag Cnt, dtype: float64\n",
      "count    1000000.000000\n",
      "mean           0.188164\n",
      "std            0.390843\n",
      "min            0.000000\n",
      "25%            0.000000\n",
      "50%            0.000000\n",
      "75%            0.000000\n",
      "max            1.000000\n",
      "Name: RST Flag Cnt, dtype: float64\n",
      "count    1000000.000000\n",
      "mean           0.394046\n",
      "std            0.488645\n",
      "min            0.000000\n",
      "25%            0.000000\n",
      "50%            0.000000\n",
      "75%            1.000000\n",
      "max            1.000000\n",
      "Name: PSH Flag Cnt, dtype: float64\n",
      "count    1000000.000000\n",
      "mean           0.328782\n",
      "std            0.469771\n",
      "min            0.000000\n",
      "25%            0.000000\n",
      "50%            0.000000\n",
      "75%            1.000000\n",
      "max            1.000000\n",
      "Name: ACK Flag Cnt, dtype: float64\n",
      "count    1000000.000000\n",
      "mean           0.041566\n",
      "std            0.199595\n",
      "min            0.000000\n",
      "25%            0.000000\n",
      "50%            0.000000\n",
      "75%            0.000000\n",
      "max            1.000000\n",
      "Name: URG Flag Cnt, dtype: float64\n",
      "count    1000000.000000\n",
      "mean           0.497193\n",
      "std            0.867324\n",
      "min            0.000000\n",
      "25%            0.000000\n",
      "50%            0.000000\n",
      "75%            1.000000\n",
      "max          283.000000\n",
      "Name: Down/Up Ratio, dtype: float64\n",
      "count    1000000.000000\n",
      "mean          50.432681\n",
      "std           59.696943\n",
      "min            0.000000\n",
      "25%            0.000000\n",
      "50%           36.000000\n",
      "75%           67.533333\n",
      "max         1808.419048\n",
      "Name: Fwd Seg Size Avg, dtype: float64\n",
      "count    1000000.000000\n",
      "mean        8814.061560\n",
      "std        16255.468034\n",
      "min           -1.000000\n",
      "25%           -1.000000\n",
      "50%          980.000000\n",
      "75%         8192.000000\n",
      "max        65535.000000\n",
      "Name: Init Fwd Win Byts, dtype: float64\n",
      "count    1000000.000000\n",
      "mean        8722.502989\n",
      "std        20649.724573\n",
      "min           -1.000000\n",
      "25%           -1.000000\n",
      "50%           -1.000000\n",
      "75%          230.000000\n",
      "max        65535.000000\n",
      "Name: Init Bwd Win Byts, dtype: float64\n",
      "count    1000000.000000\n",
      "mean          17.974548\n",
      "std            7.704415\n",
      "min            0.000000\n",
      "25%            8.000000\n",
      "50%           20.000000\n",
      "75%           20.000000\n",
      "max           48.000000\n",
      "Name: Fwd Seg Size Min, dtype: float64\n",
      "count    1.000000e+06\n",
      "mean     1.772372e+05\n",
      "std      2.552536e+06\n",
      "min      0.000000e+00\n",
      "25%      0.000000e+00\n",
      "50%      0.000000e+00\n",
      "75%      0.000000e+00\n",
      "max      1.131927e+08\n",
      "Name: Active Mean, dtype: float64\n",
      "count    1.000000e+06\n",
      "mean     8.972907e+04\n",
      "std      1.564223e+06\n",
      "min      0.000000e+00\n",
      "25%      0.000000e+00\n",
      "50%      0.000000e+00\n",
      "75%      0.000000e+00\n",
      "max      7.475080e+07\n",
      "Name: Active Std, dtype: float64\n",
      "count    1.000000e+06\n",
      "mean     2.686714e+05\n",
      "std      3.390406e+06\n",
      "min      0.000000e+00\n",
      "25%      0.000000e+00\n",
      "50%      0.000000e+00\n",
      "75%      0.000000e+00\n",
      "max      1.131927e+08\n",
      "Name: Active Max, dtype: float64\n",
      "count    1.000000e+06\n",
      "mean     1.174753e+05\n",
      "std      2.142060e+06\n",
      "min      0.000000e+00\n",
      "25%      0.000000e+00\n",
      "50%      0.000000e+00\n",
      "75%      0.000000e+00\n",
      "max      1.131927e+08\n",
      "Name: Active Min, dtype: float64\n",
      "count    1.000000e+06\n",
      "mean     4.677949e+06\n",
      "std      2.020995e+07\n",
      "min      0.000000e+00\n",
      "25%      0.000000e+00\n",
      "50%      0.000000e+00\n",
      "75%      0.000000e+00\n",
      "max      1.260300e+10\n",
      "Name: Idle Min, dtype: float64\n"
     ]
    }
   ],
   "source": [
    "for col in test_desc:\n",
    "    print(test_desc[col])"
   ]
  },
  {
   "cell_type": "code",
   "execution_count": 10,
   "metadata": {
    "vscode": {
     "languageId": "python"
    }
   },
   "outputs": [
    {
     "name": "stdout",
     "output_type": "stream",
     "text": [
      "Flow Byts/s    Flow Byts/s\n",
      "Flow Pkts/s    Flow Pkts/s\n",
      "dtype: object\n"
     ]
    }
   ],
   "source": [
    "col_name = test_data.columns.to_series()[np.isinf(test_data).any()]\n",
    "print(col_name)"
   ]
  },
  {
   "cell_type": "code",
   "execution_count": 14,
   "metadata": {
    "vscode": {
     "languageId": "python"
    }
   },
   "outputs": [
    {
     "name": "stdout",
     "output_type": "stream",
     "text": [
      "Series([], dtype: object)\n"
     ]
    }
   ],
   "source": [
    "nan_col_name = test_data.columns.to_series()[np.isnan(test_data).any()]\n",
    "print(nan_col_name)"
   ]
  },
  {
   "cell_type": "code",
   "execution_count": 12,
   "metadata": {
    "vscode": {
     "languageId": "python"
    }
   },
   "outputs": [
    {
     "name": "stdout",
     "output_type": "stream",
     "text": [
      "Column Flow Byts/s has 2323 infinite values\n",
      "Column Flow Pkts/s has 2323 infinite values\n"
     ]
    }
   ],
   "source": [
    "for column in col_name:\n",
    "    infi_count = np.isinf(test_data[column]).values.sum()\n",
    "    print(\"Column {} has {} infinite values\".format(column, infi_count))"
   ]
  },
  {
   "cell_type": "code",
   "execution_count": 15,
   "metadata": {
    "vscode": {
     "languageId": "python"
    }
   },
   "outputs": [],
   "source": [
    "test_data['Flow Byts/s']=test_data['Flow Byts/s'].replace([np.inf, -np.inf], np.nan)\n",
    "test_data['Flow Pkts/s']=test_data['Flow Pkts/s'].replace([np.inf, -np.inf], np.nan)"
   ]
  },
  {
   "cell_type": "code",
   "execution_count": 16,
   "metadata": {
    "vscode": {
     "languageId": "python"
    }
   },
   "outputs": [],
   "source": [
    "byts_max = test_data['Flow Byts/s'].max()\n",
    "pkts_max = test_data['Flow Pkts/s'].max()\n",
    "test_data['Flow Byts/s']=test_data['Flow Byts/s'].fillna(2*byts_max)\n",
    "test_data['Flow Pkts/s']=test_data['Flow Pkts/s'].fillna(2*pkts_max)"
   ]
  },
  {
   "cell_type": "code",
   "execution_count": 27,
   "metadata": {
    "vscode": {
     "languageId": "python"
    }
   },
   "outputs": [],
   "source": [
    "from sklearn.experimental import enable_iterative_imputer\n",
    "from sklearn.impute import IterativeImputer"
   ]
  },
  {
   "cell_type": "code",
   "execution_count": 9,
   "metadata": {
    "vscode": {
     "languageId": "python"
    }
   },
   "outputs": [],
   "source": [
    "train_desc = x_train.describe()\n",
    "mean_vec = train_desc.iloc[1:2,:].to_numpy()\n",
    "std_vec = train_desc.iloc[2:3,:].to_numpy()\n",
    "mean_array = mean_vec[0]\n",
    "std_array = std_vec[0]\n"
   ]
  },
  {
   "cell_type": "markdown",
   "metadata": {},
   "source": [
    "### standardizing wrt train data distribution"
   ]
  },
  {
   "cell_type": "code",
   "execution_count": 20,
   "metadata": {
    "vscode": {
     "languageId": "python"
    }
   },
   "outputs": [],
   "source": [
    "for i in range(len(test_data)):\n",
    "    test_data.iloc[i,:] = np.divide(np.subtract(test_data.iloc[i,:],mean_array),std_array) "
   ]
  },
  {
   "cell_type": "code",
   "execution_count": 17,
   "metadata": {
    "vscode": {
     "languageId": "python"
    }
   },
   "outputs": [
    {
     "data": {
      "text/html": [
       "<style>#sk-container-id-1 {color: black;background-color: white;}#sk-container-id-1 pre{padding: 0;}#sk-container-id-1 div.sk-toggleable {background-color: white;}#sk-container-id-1 label.sk-toggleable__label {cursor: pointer;display: block;width: 100%;margin-bottom: 0;padding: 0.3em;box-sizing: border-box;text-align: center;}#sk-container-id-1 label.sk-toggleable__label-arrow:before {content: \"▸\";float: left;margin-right: 0.25em;color: #696969;}#sk-container-id-1 label.sk-toggleable__label-arrow:hover:before {color: black;}#sk-container-id-1 div.sk-estimator:hover label.sk-toggleable__label-arrow:before {color: black;}#sk-container-id-1 div.sk-toggleable__content {max-height: 0;max-width: 0;overflow: hidden;text-align: left;background-color: #f0f8ff;}#sk-container-id-1 div.sk-toggleable__content pre {margin: 0.2em;color: black;border-radius: 0.25em;background-color: #f0f8ff;}#sk-container-id-1 input.sk-toggleable__control:checked~div.sk-toggleable__content {max-height: 200px;max-width: 100%;overflow: auto;}#sk-container-id-1 input.sk-toggleable__control:checked~label.sk-toggleable__label-arrow:before {content: \"▾\";}#sk-container-id-1 div.sk-estimator input.sk-toggleable__control:checked~label.sk-toggleable__label {background-color: #d4ebff;}#sk-container-id-1 div.sk-label input.sk-toggleable__control:checked~label.sk-toggleable__label {background-color: #d4ebff;}#sk-container-id-1 input.sk-hidden--visually {border: 0;clip: rect(1px 1px 1px 1px);clip: rect(1px, 1px, 1px, 1px);height: 1px;margin: -1px;overflow: hidden;padding: 0;position: absolute;width: 1px;}#sk-container-id-1 div.sk-estimator {font-family: monospace;background-color: #f0f8ff;border: 1px dotted black;border-radius: 0.25em;box-sizing: border-box;margin-bottom: 0.5em;}#sk-container-id-1 div.sk-estimator:hover {background-color: #d4ebff;}#sk-container-id-1 div.sk-parallel-item::after {content: \"\";width: 100%;border-bottom: 1px solid gray;flex-grow: 1;}#sk-container-id-1 div.sk-label:hover label.sk-toggleable__label {background-color: #d4ebff;}#sk-container-id-1 div.sk-serial::before {content: \"\";position: absolute;border-left: 1px solid gray;box-sizing: border-box;top: 0;bottom: 0;left: 50%;z-index: 0;}#sk-container-id-1 div.sk-serial {display: flex;flex-direction: column;align-items: center;background-color: white;padding-right: 0.2em;padding-left: 0.2em;position: relative;}#sk-container-id-1 div.sk-item {position: relative;z-index: 1;}#sk-container-id-1 div.sk-parallel {display: flex;align-items: stretch;justify-content: center;background-color: white;position: relative;}#sk-container-id-1 div.sk-item::before, #sk-container-id-1 div.sk-parallel-item::before {content: \"\";position: absolute;border-left: 1px solid gray;box-sizing: border-box;top: 0;bottom: 0;left: 50%;z-index: -1;}#sk-container-id-1 div.sk-parallel-item {display: flex;flex-direction: column;z-index: 1;position: relative;background-color: white;}#sk-container-id-1 div.sk-parallel-item:first-child::after {align-self: flex-end;width: 50%;}#sk-container-id-1 div.sk-parallel-item:last-child::after {align-self: flex-start;width: 50%;}#sk-container-id-1 div.sk-parallel-item:only-child::after {width: 0;}#sk-container-id-1 div.sk-dashed-wrapped {border: 1px dashed gray;margin: 0 0.4em 0.5em 0.4em;box-sizing: border-box;padding-bottom: 0.4em;background-color: white;}#sk-container-id-1 div.sk-label label {font-family: monospace;font-weight: bold;display: inline-block;line-height: 1.2em;}#sk-container-id-1 div.sk-label-container {text-align: center;}#sk-container-id-1 div.sk-container {/* jupyter's `normalize.less` sets `[hidden] { display: none; }` but bootstrap.min.css set `[hidden] { display: none !important; }` so we also need the `!important` here to be able to override the default hidden behavior on the sphinx rendered scikit-learn.org. See: https://github.com/scikit-learn/scikit-learn/issues/21755 */display: inline-block !important;position: relative;}#sk-container-id-1 div.sk-text-repr-fallback {display: none;}</style><div id=\"sk-container-id-1\" class=\"sk-top-container\"><div class=\"sk-text-repr-fallback\"><pre>PCA(n_components=24)</pre><b>In a Jupyter environment, please rerun this cell to show the HTML representation or trust the notebook. <br />On GitHub, the HTML representation is unable to render, please try loading this page with nbviewer.org.</b></div><div class=\"sk-container\" hidden><div class=\"sk-item\"><div class=\"sk-estimator sk-toggleable\"><input class=\"sk-toggleable__control sk-hidden--visually\" id=\"sk-estimator-id-1\" type=\"checkbox\" checked><label for=\"sk-estimator-id-1\" class=\"sk-toggleable__label sk-toggleable__label-arrow\">PCA</label><div class=\"sk-toggleable__content\"><pre>PCA(n_components=24)</pre></div></div></div></div></div>"
      ],
      "text/plain": [
       "PCA(n_components=24)"
      ]
     },
     "execution_count": 17,
     "metadata": {},
     "output_type": "execute_result"
    }
   ],
   "source": [
    "pca = PCA(n_components=k)\n",
    "pca.fit(scaled_train)\n"
   ]
  },
  {
   "cell_type": "code",
   "execution_count": 26,
   "metadata": {
    "vscode": {
     "languageId": "python"
    }
   },
   "outputs": [],
   "source": [
    "train_pc = pca.transform(scaled_train)\n"
   ]
  },
  {
   "cell_type": "code",
   "execution_count": 18,
   "metadata": {
    "vscode": {
     "languageId": "python"
    }
   },
   "outputs": [
    {
     "name": "stderr",
     "output_type": "stream",
     "text": [
      "/home/aban/somu/env/lib/python3.8/site-packages/sklearn/base.py:443: UserWarning: X has feature names, but PCA was fitted without feature names\n",
      "  warnings.warn(\n"
     ]
    }
   ],
   "source": [
    "test_pc = pca.transform(test_data)"
   ]
  },
  {
   "cell_type": "code",
   "execution_count": 20,
   "metadata": {
    "vscode": {
     "languageId": "python"
    }
   },
   "outputs": [],
   "source": [
    "principalDf = pd.DataFrame(data = test_pc\n",
    "             , columns = ['pc 1', 'pc 2','pc 3','pc 4','pc 5','pc 6','pc 7','pc 8','pc 9','pc 10','pc 11','pc 12','pc 13','pc 14','pc 15','pc 16','pc 17','pc 18','pc 19','pc 20','pc 21','pc 22','pc 23','pc 24'])"
   ]
  },
  {
   "cell_type": "code",
   "execution_count": null,
   "metadata": {
    "vscode": {
     "languageId": "python"
    }
   },
   "outputs": [],
   "source": [
    "pd.DataFrame.to_csv(principalDf,'/home/aban/somu/review-2/pca_test.csv')"
   ]
  }
 ],
 "metadata": {
  "kernelspec": {
   "display_name": "Python 3 (ipykernel)",
   "language": "python",
   "name": "python3"
  },
  "orig_nbformat": 4
 },
 "nbformat": 4,
 "nbformat_minor": 2
}
