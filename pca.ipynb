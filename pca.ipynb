{
 "cells": [
  {
   "cell_type": "code",
   "execution_count": 1,
   "metadata": {},
   "outputs": [],
   "source": [
    "import dask.dataframe as dd\n",
    "import matplotlib.pyplot as plt\n",
    "import numpy as np\n",
    "import pandas as pd\n",
    "import seaborn as sns\n",
    "import gc\n",
    "from sklearn.decomposition import PCA\n",
    "from sklearn.preprocessing import StandardScaler"
   ]
  },
  {
   "cell_type": "code",
   "execution_count": 2,
   "metadata": {},
   "outputs": [],
   "source": [
    "data = dd.read_csv('./review-1/processed_data.csv')"
   ]
  },
  {
   "cell_type": "code",
   "execution_count": 3,
   "metadata": {},
   "outputs": [
    {
     "data": {
      "text/plain": [
       "Index(['Unnamed: 0', '0', '1', '2', '3', '4', '5', '6', '7', '8', '9', '10',\n",
       "       '11', '12', '13', '14', '15', '16', '17', '18', '19', '20', '21', '22',\n",
       "       '23', '24', '25', '26', '27', '28', '29', '30', '31', '32', '33', '34',\n",
       "       '35', '36', '37', '38', '39', '40', '41', '42', '43', '44', '45', '46'],\n",
       "      dtype='object')"
      ]
     },
     "execution_count": 3,
     "metadata": {},
     "output_type": "execute_result"
    }
   ],
   "source": [
    "data.columns"
   ]
  },
  {
   "cell_type": "code",
   "execution_count": 23,
   "metadata": {},
   "outputs": [
    {
     "data": {
      "text/html": [
       "<div>\n",
       "<style scoped>\n",
       "    .dataframe tbody tr th:only-of-type {\n",
       "        vertical-align: middle;\n",
       "    }\n",
       "\n",
       "    .dataframe tbody tr th {\n",
       "        vertical-align: top;\n",
       "    }\n",
       "\n",
       "    .dataframe thead th {\n",
       "        text-align: right;\n",
       "    }\n",
       "</style>\n",
       "<table border=\"1\" class=\"dataframe\">\n",
       "  <thead>\n",
       "    <tr style=\"text-align: right;\">\n",
       "      <th></th>\n",
       "      <th>Unnamed: 0</th>\n",
       "      <th>0</th>\n",
       "      <th>1</th>\n",
       "      <th>2</th>\n",
       "      <th>3</th>\n",
       "      <th>4</th>\n",
       "      <th>5</th>\n",
       "      <th>6</th>\n",
       "      <th>7</th>\n",
       "      <th>8</th>\n",
       "      <th>...</th>\n",
       "      <th>37</th>\n",
       "      <th>38</th>\n",
       "      <th>39</th>\n",
       "      <th>40</th>\n",
       "      <th>41</th>\n",
       "      <th>42</th>\n",
       "      <th>43</th>\n",
       "      <th>44</th>\n",
       "      <th>45</th>\n",
       "      <th>46</th>\n",
       "    </tr>\n",
       "  </thead>\n",
       "  <tbody>\n",
       "    <tr>\n",
       "      <th>0</th>\n",
       "      <td>0</td>\n",
       "      <td>53.0</td>\n",
       "      <td>17.0</td>\n",
       "      <td>2291.0</td>\n",
       "      <td>1.0</td>\n",
       "      <td>1.0</td>\n",
       "      <td>49.0</td>\n",
       "      <td>49.0</td>\n",
       "      <td>49.0</td>\n",
       "      <td>49.000000</td>\n",
       "      <td>...</td>\n",
       "      <td>49.000000</td>\n",
       "      <td>-1.0</td>\n",
       "      <td>-1.0</td>\n",
       "      <td>8.0</td>\n",
       "      <td>0.0</td>\n",
       "      <td>0.0</td>\n",
       "      <td>0.0</td>\n",
       "      <td>0.0</td>\n",
       "      <td>0.0</td>\n",
       "      <td>0.0</td>\n",
       "    </tr>\n",
       "    <tr>\n",
       "      <th>1</th>\n",
       "      <td>1</td>\n",
       "      <td>80.0</td>\n",
       "      <td>6.0</td>\n",
       "      <td>5785762.0</td>\n",
       "      <td>3.0</td>\n",
       "      <td>1.0</td>\n",
       "      <td>0.0</td>\n",
       "      <td>0.0</td>\n",
       "      <td>0.0</td>\n",
       "      <td>0.000000</td>\n",
       "      <td>...</td>\n",
       "      <td>0.000000</td>\n",
       "      <td>8192.0</td>\n",
       "      <td>8192.0</td>\n",
       "      <td>20.0</td>\n",
       "      <td>0.0</td>\n",
       "      <td>0.0</td>\n",
       "      <td>0.0</td>\n",
       "      <td>0.0</td>\n",
       "      <td>0.0</td>\n",
       "      <td>0.0</td>\n",
       "    </tr>\n",
       "    <tr>\n",
       "      <th>2</th>\n",
       "      <td>2</td>\n",
       "      <td>80.0</td>\n",
       "      <td>6.0</td>\n",
       "      <td>13513.0</td>\n",
       "      <td>3.0</td>\n",
       "      <td>4.0</td>\n",
       "      <td>287.0</td>\n",
       "      <td>287.0</td>\n",
       "      <td>0.0</td>\n",
       "      <td>95.666667</td>\n",
       "      <td>...</td>\n",
       "      <td>95.666667</td>\n",
       "      <td>65535.0</td>\n",
       "      <td>219.0</td>\n",
       "      <td>20.0</td>\n",
       "      <td>0.0</td>\n",
       "      <td>0.0</td>\n",
       "      <td>0.0</td>\n",
       "      <td>0.0</td>\n",
       "      <td>0.0</td>\n",
       "      <td>1.0</td>\n",
       "    </tr>\n",
       "    <tr>\n",
       "      <th>3</th>\n",
       "      <td>3</td>\n",
       "      <td>80.0</td>\n",
       "      <td>6.0</td>\n",
       "      <td>1610.0</td>\n",
       "      <td>3.0</td>\n",
       "      <td>4.0</td>\n",
       "      <td>308.0</td>\n",
       "      <td>308.0</td>\n",
       "      <td>0.0</td>\n",
       "      <td>102.666667</td>\n",
       "      <td>...</td>\n",
       "      <td>102.666667</td>\n",
       "      <td>65535.0</td>\n",
       "      <td>219.0</td>\n",
       "      <td>20.0</td>\n",
       "      <td>0.0</td>\n",
       "      <td>0.0</td>\n",
       "      <td>0.0</td>\n",
       "      <td>0.0</td>\n",
       "      <td>0.0</td>\n",
       "      <td>1.0</td>\n",
       "    </tr>\n",
       "    <tr>\n",
       "      <th>4</th>\n",
       "      <td>4</td>\n",
       "      <td>53.0</td>\n",
       "      <td>17.0</td>\n",
       "      <td>1115.0</td>\n",
       "      <td>1.0</td>\n",
       "      <td>1.0</td>\n",
       "      <td>36.0</td>\n",
       "      <td>36.0</td>\n",
       "      <td>36.0</td>\n",
       "      <td>36.000000</td>\n",
       "      <td>...</td>\n",
       "      <td>36.000000</td>\n",
       "      <td>-1.0</td>\n",
       "      <td>-1.0</td>\n",
       "      <td>8.0</td>\n",
       "      <td>0.0</td>\n",
       "      <td>0.0</td>\n",
       "      <td>0.0</td>\n",
       "      <td>0.0</td>\n",
       "      <td>0.0</td>\n",
       "      <td>0.0</td>\n",
       "    </tr>\n",
       "  </tbody>\n",
       "</table>\n",
       "<p>5 rows × 48 columns</p>\n",
       "</div>"
      ],
      "text/plain": [
       "   Unnamed: 0     0     1          2    3    4      5      6     7  \\\n",
       "0           0  53.0  17.0     2291.0  1.0  1.0   49.0   49.0  49.0   \n",
       "1           1  80.0   6.0  5785762.0  3.0  1.0    0.0    0.0   0.0   \n",
       "2           2  80.0   6.0    13513.0  3.0  4.0  287.0  287.0   0.0   \n",
       "3           3  80.0   6.0     1610.0  3.0  4.0  308.0  308.0   0.0   \n",
       "4           4  53.0  17.0     1115.0  1.0  1.0   36.0   36.0  36.0   \n",
       "\n",
       "            8  ...          37       38      39    40   41   42   43   44  \\\n",
       "0   49.000000  ...   49.000000     -1.0    -1.0   8.0  0.0  0.0  0.0  0.0   \n",
       "1    0.000000  ...    0.000000   8192.0  8192.0  20.0  0.0  0.0  0.0  0.0   \n",
       "2   95.666667  ...   95.666667  65535.0   219.0  20.0  0.0  0.0  0.0  0.0   \n",
       "3  102.666667  ...  102.666667  65535.0   219.0  20.0  0.0  0.0  0.0  0.0   \n",
       "4   36.000000  ...   36.000000     -1.0    -1.0   8.0  0.0  0.0  0.0  0.0   \n",
       "\n",
       "    45   46  \n",
       "0  0.0  0.0  \n",
       "1  0.0  0.0  \n",
       "2  0.0  1.0  \n",
       "3  0.0  1.0  \n",
       "4  0.0  0.0  \n",
       "\n",
       "[5 rows x 48 columns]"
      ]
     },
     "execution_count": 23,
     "metadata": {},
     "output_type": "execute_result"
    }
   ],
   "source": [
    "data.head()"
   ]
  },
  {
   "cell_type": "code",
   "execution_count": 4,
   "metadata": {},
   "outputs": [],
   "source": [
    "data = data.drop(['Unnamed: 0'],axis=1)"
   ]
  },
  {
   "cell_type": "code",
   "execution_count": 5,
   "metadata": {},
   "outputs": [
    {
     "data": {
      "text/plain": [
       "Index(['0', '1', '2', '3', '4', '5', '6', '7', '8', '9', '10', '11', '12',\n",
       "       '13', '14', '15', '16', '17', '18', '19', '20', '21', '22', '23', '24',\n",
       "       '25', '26', '27', '28', '29', '30', '31', '32', '33', '34', '35', '36',\n",
       "       '37', '38', '39', '40', '41', '42', '43', '44', '45', '46'],\n",
       "      dtype='object')"
      ]
     },
     "execution_count": 5,
     "metadata": {},
     "output_type": "execute_result"
    }
   ],
   "source": [
    "data.columns"
   ]
  },
  {
   "cell_type": "code",
   "execution_count": 7,
   "metadata": {},
   "outputs": [
    {
     "data": {
      "text/plain": [
       "count    1.513949e+07\n",
       "mean     1.702228e-01\n",
       "std      3.758284e-01\n",
       "min      0.000000e+00\n",
       "25%      0.000000e+00\n",
       "50%      0.000000e+00\n",
       "75%      0.000000e+00\n",
       "max      1.000000e+00\n",
       "Name: 46, dtype: float64"
      ]
     },
     "execution_count": 7,
     "metadata": {},
     "output_type": "execute_result"
    }
   ],
   "source": [
    "data.iloc[:,46].describe().compute()"
   ]
  },
  {
   "cell_type": "code",
   "execution_count": 6,
   "metadata": {},
   "outputs": [],
   "source": [
    "data.columns = ['Dst Port', 'Protocol', 'Flow Duration', 'Tot Fwd Pkts', 'Tot Bwd Pkts',\n",
    "       'TotLen Fwd Pkts', 'Fwd Pkt Len Max', 'Fwd Pkt Len Min',\n",
    "       'Fwd Pkt Len Mean', 'Bwd Pkt Len Max', 'Bwd Pkt Len Min',\n",
    "       'Bwd Pkt Len Mean', 'Flow Byts/s', 'Flow Pkts/s', 'Flow IAT Mean',\n",
    "       'Flow IAT Std', 'Flow IAT Max', 'Flow IAT Min', 'Bwd IAT Tot',\n",
    "       'Bwd IAT Mean', 'Bwd IAT Std', 'Bwd IAT Max', 'Bwd IAT Min',\n",
    "       'Fwd PSH Flags', 'Fwd URG Flags', 'Fwd Pkts/s', 'Bwd Pkts/s',\n",
    "       'Pkt Len Min', 'Pkt Len Mean', 'Pkt Len Std', 'Pkt Len Var',\n",
    "       'FIN Flag Cnt', 'RST Flag Cnt', 'PSH Flag Cnt', 'ACK Flag Cnt',\n",
    "       'URG Flag Cnt', 'Down/Up Ratio', 'Fwd Seg Size Avg',\n",
    "       'Init Fwd Win Byts', 'Init Bwd Win Byts', 'Fwd Seg Size Min',\n",
    "       'Active Mean', 'Active Std', 'Active Max', 'Active Min', 'Idle Min','Label']"
   ]
  },
  {
   "cell_type": "code",
   "execution_count": 9,
   "metadata": {},
   "outputs": [
    {
     "data": {
      "text/html": [
       "<div>\n",
       "<style scoped>\n",
       "    .dataframe tbody tr th:only-of-type {\n",
       "        vertical-align: middle;\n",
       "    }\n",
       "\n",
       "    .dataframe tbody tr th {\n",
       "        vertical-align: top;\n",
       "    }\n",
       "\n",
       "    .dataframe thead th {\n",
       "        text-align: right;\n",
       "    }\n",
       "</style>\n",
       "<table border=\"1\" class=\"dataframe\">\n",
       "  <thead>\n",
       "    <tr style=\"text-align: right;\">\n",
       "      <th></th>\n",
       "      <th>Dst Port</th>\n",
       "      <th>Protocol</th>\n",
       "      <th>Flow Duration</th>\n",
       "      <th>Tot Fwd Pkts</th>\n",
       "      <th>Tot Bwd Pkts</th>\n",
       "      <th>TotLen Fwd Pkts</th>\n",
       "      <th>Fwd Pkt Len Max</th>\n",
       "      <th>Fwd Pkt Len Min</th>\n",
       "      <th>Fwd Pkt Len Mean</th>\n",
       "      <th>Bwd Pkt Len Max</th>\n",
       "      <th>...</th>\n",
       "      <th>Fwd Seg Size Avg</th>\n",
       "      <th>Init Fwd Win Byts</th>\n",
       "      <th>Init Bwd Win Byts</th>\n",
       "      <th>Fwd Seg Size Min</th>\n",
       "      <th>Active Mean</th>\n",
       "      <th>Active Std</th>\n",
       "      <th>Active Max</th>\n",
       "      <th>Active Min</th>\n",
       "      <th>Idle Min</th>\n",
       "      <th>Label</th>\n",
       "    </tr>\n",
       "  </thead>\n",
       "  <tbody>\n",
       "    <tr>\n",
       "      <th>0</th>\n",
       "      <td>53.0</td>\n",
       "      <td>17.0</td>\n",
       "      <td>2291.0</td>\n",
       "      <td>1.0</td>\n",
       "      <td>1.0</td>\n",
       "      <td>49.0</td>\n",
       "      <td>49.0</td>\n",
       "      <td>49.0</td>\n",
       "      <td>49.000000</td>\n",
       "      <td>164.0</td>\n",
       "      <td>...</td>\n",
       "      <td>49.000000</td>\n",
       "      <td>-1.0</td>\n",
       "      <td>-1.0</td>\n",
       "      <td>8.0</td>\n",
       "      <td>0.0</td>\n",
       "      <td>0.0</td>\n",
       "      <td>0.0</td>\n",
       "      <td>0.0</td>\n",
       "      <td>0.0</td>\n",
       "      <td>0</td>\n",
       "    </tr>\n",
       "    <tr>\n",
       "      <th>1</th>\n",
       "      <td>80.0</td>\n",
       "      <td>6.0</td>\n",
       "      <td>5785762.0</td>\n",
       "      <td>3.0</td>\n",
       "      <td>1.0</td>\n",
       "      <td>0.0</td>\n",
       "      <td>0.0</td>\n",
       "      <td>0.0</td>\n",
       "      <td>0.000000</td>\n",
       "      <td>0.0</td>\n",
       "      <td>...</td>\n",
       "      <td>0.000000</td>\n",
       "      <td>8192.0</td>\n",
       "      <td>8192.0</td>\n",
       "      <td>20.0</td>\n",
       "      <td>0.0</td>\n",
       "      <td>0.0</td>\n",
       "      <td>0.0</td>\n",
       "      <td>0.0</td>\n",
       "      <td>0.0</td>\n",
       "      <td>0</td>\n",
       "    </tr>\n",
       "    <tr>\n",
       "      <th>2</th>\n",
       "      <td>80.0</td>\n",
       "      <td>6.0</td>\n",
       "      <td>13513.0</td>\n",
       "      <td>3.0</td>\n",
       "      <td>4.0</td>\n",
       "      <td>287.0</td>\n",
       "      <td>287.0</td>\n",
       "      <td>0.0</td>\n",
       "      <td>95.666667</td>\n",
       "      <td>935.0</td>\n",
       "      <td>...</td>\n",
       "      <td>95.666667</td>\n",
       "      <td>65535.0</td>\n",
       "      <td>219.0</td>\n",
       "      <td>20.0</td>\n",
       "      <td>0.0</td>\n",
       "      <td>0.0</td>\n",
       "      <td>0.0</td>\n",
       "      <td>0.0</td>\n",
       "      <td>0.0</td>\n",
       "      <td>1</td>\n",
       "    </tr>\n",
       "    <tr>\n",
       "      <th>3</th>\n",
       "      <td>80.0</td>\n",
       "      <td>6.0</td>\n",
       "      <td>1610.0</td>\n",
       "      <td>3.0</td>\n",
       "      <td>4.0</td>\n",
       "      <td>308.0</td>\n",
       "      <td>308.0</td>\n",
       "      <td>0.0</td>\n",
       "      <td>102.666667</td>\n",
       "      <td>935.0</td>\n",
       "      <td>...</td>\n",
       "      <td>102.666667</td>\n",
       "      <td>65535.0</td>\n",
       "      <td>219.0</td>\n",
       "      <td>20.0</td>\n",
       "      <td>0.0</td>\n",
       "      <td>0.0</td>\n",
       "      <td>0.0</td>\n",
       "      <td>0.0</td>\n",
       "      <td>0.0</td>\n",
       "      <td>1</td>\n",
       "    </tr>\n",
       "    <tr>\n",
       "      <th>4</th>\n",
       "      <td>53.0</td>\n",
       "      <td>17.0</td>\n",
       "      <td>1115.0</td>\n",
       "      <td>1.0</td>\n",
       "      <td>1.0</td>\n",
       "      <td>36.0</td>\n",
       "      <td>36.0</td>\n",
       "      <td>36.0</td>\n",
       "      <td>36.000000</td>\n",
       "      <td>73.0</td>\n",
       "      <td>...</td>\n",
       "      <td>36.000000</td>\n",
       "      <td>-1.0</td>\n",
       "      <td>-1.0</td>\n",
       "      <td>8.0</td>\n",
       "      <td>0.0</td>\n",
       "      <td>0.0</td>\n",
       "      <td>0.0</td>\n",
       "      <td>0.0</td>\n",
       "      <td>0.0</td>\n",
       "      <td>0</td>\n",
       "    </tr>\n",
       "  </tbody>\n",
       "</table>\n",
       "<p>5 rows × 47 columns</p>\n",
       "</div>"
      ],
      "text/plain": [
       "   Dst Port  Protocol  Flow Duration  Tot Fwd Pkts  Tot Bwd Pkts  \\\n",
       "0      53.0      17.0         2291.0           1.0           1.0   \n",
       "1      80.0       6.0      5785762.0           3.0           1.0   \n",
       "2      80.0       6.0        13513.0           3.0           4.0   \n",
       "3      80.0       6.0         1610.0           3.0           4.0   \n",
       "4      53.0      17.0         1115.0           1.0           1.0   \n",
       "\n",
       "   TotLen Fwd Pkts  Fwd Pkt Len Max  Fwd Pkt Len Min  Fwd Pkt Len Mean  \\\n",
       "0             49.0             49.0             49.0         49.000000   \n",
       "1              0.0              0.0              0.0          0.000000   \n",
       "2            287.0            287.0              0.0         95.666667   \n",
       "3            308.0            308.0              0.0        102.666667   \n",
       "4             36.0             36.0             36.0         36.000000   \n",
       "\n",
       "   Bwd Pkt Len Max  ...  Fwd Seg Size Avg  Init Fwd Win Byts  \\\n",
       "0            164.0  ...         49.000000               -1.0   \n",
       "1              0.0  ...          0.000000             8192.0   \n",
       "2            935.0  ...         95.666667            65535.0   \n",
       "3            935.0  ...        102.666667            65535.0   \n",
       "4             73.0  ...         36.000000               -1.0   \n",
       "\n",
       "   Init Bwd Win Byts  Fwd Seg Size Min  Active Mean  Active Std  Active Max  \\\n",
       "0               -1.0               8.0          0.0         0.0         0.0   \n",
       "1             8192.0              20.0          0.0         0.0         0.0   \n",
       "2              219.0              20.0          0.0         0.0         0.0   \n",
       "3              219.0              20.0          0.0         0.0         0.0   \n",
       "4               -1.0               8.0          0.0         0.0         0.0   \n",
       "\n",
       "   Active Min  Idle Min  Label  \n",
       "0         0.0       0.0      0  \n",
       "1         0.0       0.0      0  \n",
       "2         0.0       0.0      1  \n",
       "3         0.0       0.0      1  \n",
       "4         0.0       0.0      0  \n",
       "\n",
       "[5 rows x 47 columns]"
      ]
     },
     "execution_count": 9,
     "metadata": {},
     "output_type": "execute_result"
    }
   ],
   "source": [
    "data.head()"
   ]
  },
  {
   "cell_type": "code",
   "execution_count": 8,
   "metadata": {},
   "outputs": [],
   "source": [
    "data = data.astype({'Label': np.int8}).compute()"
   ]
  },
  {
   "cell_type": "code",
   "execution_count": 10,
   "metadata": {},
   "outputs": [
    {
     "name": "stdout",
     "output_type": "stream",
     "text": [
      "<class 'pandas.core.frame.DataFrame'>\n",
      "Int64Index: 15139493 entries, 0 to 201253\n",
      "Data columns (total 47 columns):\n",
      " #   Column             Dtype  \n",
      "---  ------             -----  \n",
      " 0   Dst Port           float64\n",
      " 1   Protocol           float64\n",
      " 2   Flow Duration      float64\n",
      " 3   Tot Fwd Pkts       float64\n",
      " 4   Tot Bwd Pkts       float64\n",
      " 5   TotLen Fwd Pkts    float64\n",
      " 6   Fwd Pkt Len Max    float64\n",
      " 7   Fwd Pkt Len Min    float64\n",
      " 8   Fwd Pkt Len Mean   float64\n",
      " 9   Bwd Pkt Len Max    float64\n",
      " 10  Bwd Pkt Len Min    float64\n",
      " 11  Bwd Pkt Len Mean   float64\n",
      " 12  Flow Byts/s        float64\n",
      " 13  Flow Pkts/s        float64\n",
      " 14  Flow IAT Mean      float64\n",
      " 15  Flow IAT Std       float64\n",
      " 16  Flow IAT Max       float64\n",
      " 17  Flow IAT Min       float64\n",
      " 18  Bwd IAT Tot        float64\n",
      " 19  Bwd IAT Mean       float64\n",
      " 20  Bwd IAT Std        float64\n",
      " 21  Bwd IAT Max        float64\n",
      " 22  Bwd IAT Min        float64\n",
      " 23  Fwd PSH Flags      float64\n",
      " 24  Fwd URG Flags      float64\n",
      " 25  Fwd Pkts/s         float64\n",
      " 26  Bwd Pkts/s         float64\n",
      " 27  Pkt Len Min        float64\n",
      " 28  Pkt Len Mean       float64\n",
      " 29  Pkt Len Std        float64\n",
      " 30  Pkt Len Var        float64\n",
      " 31  FIN Flag Cnt       float64\n",
      " 32  RST Flag Cnt       float64\n",
      " 33  PSH Flag Cnt       float64\n",
      " 34  ACK Flag Cnt       float64\n",
      " 35  URG Flag Cnt       float64\n",
      " 36  Down/Up Ratio      float64\n",
      " 37  Fwd Seg Size Avg   float64\n",
      " 38  Init Fwd Win Byts  float64\n",
      " 39  Init Bwd Win Byts  float64\n",
      " 40  Fwd Seg Size Min   float64\n",
      " 41  Active Mean        float64\n",
      " 42  Active Std         float64\n",
      " 43  Active Max         float64\n",
      " 44  Active Min         float64\n",
      " 45  Idle Min           float64\n",
      " 46  Label              int8   \n",
      "dtypes: float64(46), int8(1)\n",
      "memory usage: 5.3 GB\n"
     ]
    }
   ],
   "source": [
    "data.info()"
   ]
  },
  {
   "cell_type": "code",
   "execution_count": 13,
   "metadata": {},
   "outputs": [
    {
     "data": {
      "text/html": [
       "<div>\n",
       "<style scoped>\n",
       "    .dataframe tbody tr th:only-of-type {\n",
       "        vertical-align: middle;\n",
       "    }\n",
       "\n",
       "    .dataframe tbody tr th {\n",
       "        vertical-align: top;\n",
       "    }\n",
       "\n",
       "    .dataframe thead th {\n",
       "        text-align: right;\n",
       "    }\n",
       "</style>\n",
       "<table border=\"1\" class=\"dataframe\">\n",
       "  <thead>\n",
       "    <tr style=\"text-align: right;\">\n",
       "      <th></th>\n",
       "      <th>Dst Port</th>\n",
       "      <th>Protocol</th>\n",
       "      <th>Flow Duration</th>\n",
       "      <th>Tot Fwd Pkts</th>\n",
       "      <th>Tot Bwd Pkts</th>\n",
       "      <th>TotLen Fwd Pkts</th>\n",
       "      <th>Fwd Pkt Len Max</th>\n",
       "      <th>Fwd Pkt Len Min</th>\n",
       "      <th>Fwd Pkt Len Mean</th>\n",
       "      <th>Bwd Pkt Len Max</th>\n",
       "      <th>...</th>\n",
       "      <th>Down/Up Ratio</th>\n",
       "      <th>Fwd Seg Size Avg</th>\n",
       "      <th>Init Fwd Win Byts</th>\n",
       "      <th>Init Bwd Win Byts</th>\n",
       "      <th>Fwd Seg Size Min</th>\n",
       "      <th>Active Mean</th>\n",
       "      <th>Active Std</th>\n",
       "      <th>Active Max</th>\n",
       "      <th>Active Min</th>\n",
       "      <th>Idle Min</th>\n",
       "    </tr>\n",
       "    <tr>\n",
       "      <th>Label</th>\n",
       "      <th></th>\n",
       "      <th></th>\n",
       "      <th></th>\n",
       "      <th></th>\n",
       "      <th></th>\n",
       "      <th></th>\n",
       "      <th></th>\n",
       "      <th></th>\n",
       "      <th></th>\n",
       "      <th></th>\n",
       "      <th></th>\n",
       "      <th></th>\n",
       "      <th></th>\n",
       "      <th></th>\n",
       "      <th></th>\n",
       "      <th></th>\n",
       "      <th></th>\n",
       "      <th></th>\n",
       "      <th></th>\n",
       "      <th></th>\n",
       "      <th></th>\n",
       "    </tr>\n",
       "  </thead>\n",
       "  <tbody>\n",
       "    <tr>\n",
       "      <th>0</th>\n",
       "      <td>12562406</td>\n",
       "      <td>12562406</td>\n",
       "      <td>12562406</td>\n",
       "      <td>12562406</td>\n",
       "      <td>12562406</td>\n",
       "      <td>12562406</td>\n",
       "      <td>12562406</td>\n",
       "      <td>12562406</td>\n",
       "      <td>12562406</td>\n",
       "      <td>12562406</td>\n",
       "      <td>...</td>\n",
       "      <td>12562406</td>\n",
       "      <td>12562406</td>\n",
       "      <td>12562406</td>\n",
       "      <td>12562406</td>\n",
       "      <td>12562406</td>\n",
       "      <td>12562406</td>\n",
       "      <td>12562406</td>\n",
       "      <td>12562406</td>\n",
       "      <td>12562406</td>\n",
       "      <td>12562406</td>\n",
       "    </tr>\n",
       "    <tr>\n",
       "      <th>1</th>\n",
       "      <td>2577087</td>\n",
       "      <td>2577087</td>\n",
       "      <td>2577087</td>\n",
       "      <td>2577087</td>\n",
       "      <td>2577087</td>\n",
       "      <td>2577087</td>\n",
       "      <td>2577087</td>\n",
       "      <td>2577087</td>\n",
       "      <td>2577087</td>\n",
       "      <td>2577087</td>\n",
       "      <td>...</td>\n",
       "      <td>2577087</td>\n",
       "      <td>2577087</td>\n",
       "      <td>2577087</td>\n",
       "      <td>2577087</td>\n",
       "      <td>2577087</td>\n",
       "      <td>2577087</td>\n",
       "      <td>2577087</td>\n",
       "      <td>2577087</td>\n",
       "      <td>2577087</td>\n",
       "      <td>2577087</td>\n",
       "    </tr>\n",
       "  </tbody>\n",
       "</table>\n",
       "<p>2 rows × 46 columns</p>\n",
       "</div>"
      ],
      "text/plain": [
       "       Dst Port  Protocol  Flow Duration  Tot Fwd Pkts  Tot Bwd Pkts  \\\n",
       "Label                                                                  \n",
       "0      12562406  12562406       12562406      12562406      12562406   \n",
       "1       2577087   2577087        2577087       2577087       2577087   \n",
       "\n",
       "       TotLen Fwd Pkts  Fwd Pkt Len Max  Fwd Pkt Len Min  Fwd Pkt Len Mean  \\\n",
       "Label                                                                        \n",
       "0             12562406         12562406         12562406          12562406   \n",
       "1              2577087          2577087          2577087           2577087   \n",
       "\n",
       "       Bwd Pkt Len Max  ...  Down/Up Ratio  Fwd Seg Size Avg  \\\n",
       "Label                   ...                                    \n",
       "0             12562406  ...       12562406          12562406   \n",
       "1              2577087  ...        2577087           2577087   \n",
       "\n",
       "       Init Fwd Win Byts  Init Bwd Win Byts  Fwd Seg Size Min  Active Mean  \\\n",
       "Label                                                                        \n",
       "0               12562406           12562406          12562406     12562406   \n",
       "1                2577087            2577087           2577087      2577087   \n",
       "\n",
       "       Active Std  Active Max  Active Min  Idle Min  \n",
       "Label                                                \n",
       "0        12562406    12562406    12562406  12562406  \n",
       "1         2577087     2577087     2577087   2577087  \n",
       "\n",
       "[2 rows x 46 columns]"
      ]
     },
     "execution_count": 13,
     "metadata": {},
     "output_type": "execute_result"
    }
   ],
   "source": [
    "data.groupby('Label').count()"
   ]
  },
  {
   "cell_type": "code",
   "execution_count": 11,
   "metadata": {},
   "outputs": [],
   "source": [
    "x_data = data.iloc[:,0:46]\n"
   ]
  },
  {
   "cell_type": "code",
   "execution_count": 12,
   "metadata": {},
   "outputs": [],
   "source": [
    "y = data['Label']"
   ]
  },
  {
   "cell_type": "code",
   "execution_count": 13,
   "metadata": {},
   "outputs": [
    {
     "data": {
      "text/plain": [
       "pandas.core.series.Series"
      ]
     },
     "execution_count": 13,
     "metadata": {},
     "output_type": "execute_result"
    }
   ],
   "source": [
    "type(y)"
   ]
  },
  {
   "cell_type": "code",
   "execution_count": 14,
   "metadata": {},
   "outputs": [
    {
     "data": {
      "text/plain": [
       "0    0\n",
       "1    0\n",
       "2    1\n",
       "3    1\n",
       "4    0\n",
       "Name: Label, dtype: int8"
      ]
     },
     "execution_count": 14,
     "metadata": {},
     "output_type": "execute_result"
    }
   ],
   "source": [
    "y.head()"
   ]
  },
  {
   "cell_type": "code",
   "execution_count": 15,
   "metadata": {},
   "outputs": [
    {
     "data": {
      "text/plain": [
       "2171"
      ]
     },
     "execution_count": 15,
     "metadata": {},
     "output_type": "execute_result"
    }
   ],
   "source": [
    "del x_data\n",
    "gc.collect()"
   ]
  },
  {
   "cell_type": "code",
   "execution_count": 15,
   "metadata": {},
   "outputs": [
    {
     "data": {
      "text/plain": [
       "Index(['Dst Port', 'Protocol', 'Flow Duration', 'Tot Fwd Pkts', 'Tot Bwd Pkts',\n",
       "       'TotLen Fwd Pkts', 'Fwd Pkt Len Max', 'Fwd Pkt Len Min',\n",
       "       'Fwd Pkt Len Mean', 'Bwd Pkt Len Max', 'Bwd Pkt Len Min',\n",
       "       'Bwd Pkt Len Mean', 'Flow Byts/s', 'Flow Pkts/s', 'Flow IAT Mean',\n",
       "       'Flow IAT Std', 'Flow IAT Max', 'Flow IAT Min', 'Bwd IAT Tot',\n",
       "       'Bwd IAT Mean', 'Bwd IAT Std', 'Bwd IAT Max', 'Bwd IAT Min',\n",
       "       'Fwd PSH Flags', 'Fwd URG Flags', 'Fwd Pkts/s', 'Bwd Pkts/s',\n",
       "       'Pkt Len Min', 'Pkt Len Mean', 'Pkt Len Std', 'Pkt Len Var',\n",
       "       'FIN Flag Cnt', 'RST Flag Cnt', 'PSH Flag Cnt', 'ACK Flag Cnt',\n",
       "       'URG Flag Cnt', 'Down/Up Ratio', 'Fwd Seg Size Avg',\n",
       "       'Init Fwd Win Byts', 'Init Bwd Win Byts', 'Fwd Seg Size Min',\n",
       "       'Active Mean', 'Active Std', 'Active Max', 'Active Min', 'Idle Min'],\n",
       "      dtype='object')"
      ]
     },
     "execution_count": 15,
     "metadata": {},
     "output_type": "execute_result"
    }
   ],
   "source": [
    "x_data.columns"
   ]
  },
  {
   "cell_type": "code",
   "execution_count": 19,
   "metadata": {},
   "outputs": [
    {
     "data": {
      "text/plain": [
       "0    0\n",
       "1    0\n",
       "2    1\n",
       "3    1\n",
       "4    0\n",
       "Name: Label, dtype: int64"
      ]
     },
     "execution_count": 19,
     "metadata": {},
     "output_type": "execute_result"
    }
   ],
   "source": [
    "y.head()"
   ]
  },
  {
   "cell_type": "code",
   "execution_count": 17,
   "metadata": {},
   "outputs": [
    {
     "data": {
      "text/html": [
       "<style>#sk-container-id-1 {color: black;background-color: white;}#sk-container-id-1 pre{padding: 0;}#sk-container-id-1 div.sk-toggleable {background-color: white;}#sk-container-id-1 label.sk-toggleable__label {cursor: pointer;display: block;width: 100%;margin-bottom: 0;padding: 0.3em;box-sizing: border-box;text-align: center;}#sk-container-id-1 label.sk-toggleable__label-arrow:before {content: \"▸\";float: left;margin-right: 0.25em;color: #696969;}#sk-container-id-1 label.sk-toggleable__label-arrow:hover:before {color: black;}#sk-container-id-1 div.sk-estimator:hover label.sk-toggleable__label-arrow:before {color: black;}#sk-container-id-1 div.sk-toggleable__content {max-height: 0;max-width: 0;overflow: hidden;text-align: left;background-color: #f0f8ff;}#sk-container-id-1 div.sk-toggleable__content pre {margin: 0.2em;color: black;border-radius: 0.25em;background-color: #f0f8ff;}#sk-container-id-1 input.sk-toggleable__control:checked~div.sk-toggleable__content {max-height: 200px;max-width: 100%;overflow: auto;}#sk-container-id-1 input.sk-toggleable__control:checked~label.sk-toggleable__label-arrow:before {content: \"▾\";}#sk-container-id-1 div.sk-estimator input.sk-toggleable__control:checked~label.sk-toggleable__label {background-color: #d4ebff;}#sk-container-id-1 div.sk-label input.sk-toggleable__control:checked~label.sk-toggleable__label {background-color: #d4ebff;}#sk-container-id-1 input.sk-hidden--visually {border: 0;clip: rect(1px 1px 1px 1px);clip: rect(1px, 1px, 1px, 1px);height: 1px;margin: -1px;overflow: hidden;padding: 0;position: absolute;width: 1px;}#sk-container-id-1 div.sk-estimator {font-family: monospace;background-color: #f0f8ff;border: 1px dotted black;border-radius: 0.25em;box-sizing: border-box;margin-bottom: 0.5em;}#sk-container-id-1 div.sk-estimator:hover {background-color: #d4ebff;}#sk-container-id-1 div.sk-parallel-item::after {content: \"\";width: 100%;border-bottom: 1px solid gray;flex-grow: 1;}#sk-container-id-1 div.sk-label:hover label.sk-toggleable__label {background-color: #d4ebff;}#sk-container-id-1 div.sk-serial::before {content: \"\";position: absolute;border-left: 1px solid gray;box-sizing: border-box;top: 0;bottom: 0;left: 50%;z-index: 0;}#sk-container-id-1 div.sk-serial {display: flex;flex-direction: column;align-items: center;background-color: white;padding-right: 0.2em;padding-left: 0.2em;position: relative;}#sk-container-id-1 div.sk-item {position: relative;z-index: 1;}#sk-container-id-1 div.sk-parallel {display: flex;align-items: stretch;justify-content: center;background-color: white;position: relative;}#sk-container-id-1 div.sk-item::before, #sk-container-id-1 div.sk-parallel-item::before {content: \"\";position: absolute;border-left: 1px solid gray;box-sizing: border-box;top: 0;bottom: 0;left: 50%;z-index: -1;}#sk-container-id-1 div.sk-parallel-item {display: flex;flex-direction: column;z-index: 1;position: relative;background-color: white;}#sk-container-id-1 div.sk-parallel-item:first-child::after {align-self: flex-end;width: 50%;}#sk-container-id-1 div.sk-parallel-item:last-child::after {align-self: flex-start;width: 50%;}#sk-container-id-1 div.sk-parallel-item:only-child::after {width: 0;}#sk-container-id-1 div.sk-dashed-wrapped {border: 1px dashed gray;margin: 0 0.4em 0.5em 0.4em;box-sizing: border-box;padding-bottom: 0.4em;background-color: white;}#sk-container-id-1 div.sk-label label {font-family: monospace;font-weight: bold;display: inline-block;line-height: 1.2em;}#sk-container-id-1 div.sk-label-container {text-align: center;}#sk-container-id-1 div.sk-container {/* jupyter's `normalize.less` sets `[hidden] { display: none; }` but bootstrap.min.css set `[hidden] { display: none !important; }` so we also need the `!important` here to be able to override the default hidden behavior on the sphinx rendered scikit-learn.org. See: https://github.com/scikit-learn/scikit-learn/issues/21755 */display: inline-block !important;position: relative;}#sk-container-id-1 div.sk-text-repr-fallback {display: none;}</style><div id=\"sk-container-id-1\" class=\"sk-top-container\"><div class=\"sk-text-repr-fallback\"><pre>StandardScaler()</pre><b>In a Jupyter environment, please rerun this cell to show the HTML representation or trust the notebook. <br />On GitHub, the HTML representation is unable to render, please try loading this page with nbviewer.org.</b></div><div class=\"sk-container\" hidden><div class=\"sk-item\"><div class=\"sk-estimator sk-toggleable\"><input class=\"sk-toggleable__control sk-hidden--visually\" id=\"sk-estimator-id-1\" type=\"checkbox\" checked><label for=\"sk-estimator-id-1\" class=\"sk-toggleable__label sk-toggleable__label-arrow\">StandardScaler</label><div class=\"sk-toggleable__content\"><pre>StandardScaler()</pre></div></div></div></div></div>"
      ],
      "text/plain": [
       "StandardScaler()"
      ]
     },
     "execution_count": 17,
     "metadata": {},
     "output_type": "execute_result"
    }
   ],
   "source": [
    "scaler = StandardScaler()\n",
    "scaler.fit(x_data)"
   ]
  },
  {
   "cell_type": "code",
   "execution_count": 18,
   "metadata": {},
   "outputs": [],
   "source": [
    "scaled_data = scaler.transform(x_data)"
   ]
  },
  {
   "cell_type": "code",
   "execution_count": 19,
   "metadata": {},
   "outputs": [
    {
     "data": {
      "text/plain": [
       "(15139493, 46)"
      ]
     },
     "execution_count": 19,
     "metadata": {},
     "output_type": "execute_result"
    }
   ],
   "source": [
    "scaled_data.shape"
   ]
  },
  {
   "cell_type": "markdown",
   "metadata": {},
   "source": [
    "### Finding the best 'k'(no of principle components) to keep that would retain 95% of the variance"
   ]
  },
  {
   "cell_type": "code",
   "execution_count": 20,
   "metadata": {},
   "outputs": [],
   "source": [
    "Covar = np.cov(scaled_data,rowvar=False)"
   ]
  },
  {
   "cell_type": "code",
   "execution_count": 21,
   "metadata": {},
   "outputs": [],
   "source": [
    "u,s,v = np.linalg.svd(Covar)"
   ]
  },
  {
   "cell_type": "code",
   "execution_count": 22,
   "metadata": {},
   "outputs": [
    {
     "name": "stdout",
     "output_type": "stream",
     "text": [
      "<class 'numpy.ndarray'>\n"
     ]
    }
   ],
   "source": [
    "print(type(s))"
   ]
  },
  {
   "cell_type": "code",
   "execution_count": 23,
   "metadata": {},
   "outputs": [
    {
     "data": {
      "text/plain": [
       "(46,)"
      ]
     },
     "execution_count": 23,
     "metadata": {},
     "output_type": "execute_result"
    }
   ],
   "source": [
    "s.shape"
   ]
  },
  {
   "cell_type": "code",
   "execution_count": 24,
   "metadata": {},
   "outputs": [
    {
     "name": "stdout",
     "output_type": "stream",
     "text": [
      "[8.02820000e+00 5.49458371e+00 4.63079496e+00 3.10765677e+00\n",
      " 2.91435232e+00 2.27313995e+00 1.92851292e+00 1.79245128e+00\n",
      " 1.56675251e+00 1.24624533e+00 1.19356159e+00 1.03503526e+00\n",
      " 1.00530854e+00 9.82521760e-01 9.32144812e-01 9.02507730e-01\n",
      " 8.01295423e-01 7.86831149e-01 6.74541823e-01 6.67047296e-01\n",
      " 5.86351744e-01 4.95097406e-01 4.76623715e-01 4.01538698e-01\n",
      " 3.80324614e-01 3.10584709e-01 2.56979315e-01 2.32756077e-01\n",
      " 2.13025049e-01 1.47164120e-01 1.30119065e-01 1.26929611e-01\n",
      " 6.97965696e-02 6.56744498e-02 4.99481466e-02 3.21786307e-02\n",
      " 2.06632037e-02 1.26347061e-02 9.88487372e-03 6.87335957e-03\n",
      " 5.87944735e-03 5.08076716e-03 2.29059515e-04 1.80575970e-04\n",
      " 3.56523700e-15 5.97971324e-16]\n"
     ]
    }
   ],
   "source": [
    "print(s)"
   ]
  },
  {
   "cell_type": "code",
   "execution_count": 25,
   "metadata": {},
   "outputs": [],
   "source": [
    "vs = np.sum(s)"
   ]
  },
  {
   "cell_type": "code",
   "execution_count": 26,
   "metadata": {},
   "outputs": [
    {
     "name": "stdout",
     "output_type": "stream",
     "text": [
      "46.00000303841404\n"
     ]
    }
   ],
   "source": [
    "print(vs)"
   ]
  },
  {
   "cell_type": "code",
   "execution_count": 37,
   "metadata": {},
   "outputs": [],
   "source": [
    "def find_k(s):\n",
    "    ss =0\n",
    "    k = 0\n",
    "    for i in s:\n",
    "        k = k+1\n",
    "        ss = ss + i\n",
    "        #print(ss/vs)\n",
    "        if(ss/vs>=0.95):\n",
    "            return k"
   ]
  },
  {
   "cell_type": "code",
   "execution_count": 38,
   "metadata": {},
   "outputs": [
    {
     "name": "stdout",
     "output_type": "stream",
     "text": [
      "24\n"
     ]
    }
   ],
   "source": [
    "k = find_k(s)\n",
    "print(k)"
   ]
  },
  {
   "cell_type": "markdown",
   "metadata": {},
   "source": [
    "### Running PCA , reducing the feature space to k dimensions"
   ]
  },
  {
   "cell_type": "code",
   "execution_count": null,
   "metadata": {},
   "outputs": [],
   "source": [
    "pca = PCA(n_components=k)\n",
    "principalComponents = pca.fit_transform(scaled_data)\n"
   ]
  },
  {
   "cell_type": "code",
   "execution_count": 44,
   "metadata": {},
   "outputs": [
    {
     "data": {
      "text/plain": [
       "(15139493, 24)"
      ]
     },
     "execution_count": 44,
     "metadata": {},
     "output_type": "execute_result"
    }
   ],
   "source": [
    "principalComponents.shape"
   ]
  },
  {
   "cell_type": "code",
   "execution_count": 47,
   "metadata": {},
   "outputs": [],
   "source": [
    "principalDf = pd.DataFrame(data = principalComponents\n",
    "             , columns = ['pc 1', 'pc 2','pc 3','pc 4','pc 5','pc 6','pc 7','pc 8','pc 9','pc 10','pc 11','pc 12','pc 13','pc 14','pc 15','pc 16','pc 17','pc 18','pc 19','pc 20','pc 21','pc 22','pc 23','pc 24'])"
   ]
  },
  {
   "cell_type": "code",
   "execution_count": 48,
   "metadata": {},
   "outputs": [],
   "source": [
    "pd.DataFrame.to_csv(principalDf,'./review-1/pca_data.csv')"
   ]
  },
  {
   "cell_type": "code",
   "execution_count": 49,
   "metadata": {},
   "outputs": [
    {
     "data": {
      "text/plain": [
       "pandas.core.frame.DataFrame"
      ]
     },
     "execution_count": 49,
     "metadata": {},
     "output_type": "execute_result"
    },
    {
     "ename": "",
     "evalue": "",
     "output_type": "error",
     "traceback": [
      "\u001b[1;31mThe Kernel crashed while executing code in the the current cell or a previous cell. Please review the code in the cell(s) to identify a possible cause of the failure. Click <a href='https://aka.ms/vscodeJupyterKernelCrash'>here</a> for more info. View Jupyter <a href='command:jupyter.viewOutput'>log</a> for further details."
     ]
    }
   ],
   "source": [
    "type(data)"
   ]
  },
  {
   "cell_type": "code",
   "execution_count": 16,
   "metadata": {},
   "outputs": [],
   "source": [
    "pca_data = dd.read_csv('./review-1/pca_data.csv')"
   ]
  },
  {
   "cell_type": "code",
   "execution_count": 8,
   "metadata": {},
   "outputs": [
    {
     "data": {
      "text/plain": [
       "15139493"
      ]
     },
     "execution_count": 8,
     "metadata": {},
     "output_type": "execute_result"
    }
   ],
   "source": [
    "len(pca_data)"
   ]
  },
  {
   "cell_type": "code",
   "execution_count": 17,
   "metadata": {},
   "outputs": [
    {
     "data": {
      "text/html": [
       "<div>\n",
       "<style scoped>\n",
       "    .dataframe tbody tr th:only-of-type {\n",
       "        vertical-align: middle;\n",
       "    }\n",
       "\n",
       "    .dataframe tbody tr th {\n",
       "        vertical-align: top;\n",
       "    }\n",
       "\n",
       "    .dataframe thead th {\n",
       "        text-align: right;\n",
       "    }\n",
       "</style>\n",
       "<table border=\"1\" class=\"dataframe\">\n",
       "  <thead>\n",
       "    <tr style=\"text-align: right;\">\n",
       "      <th></th>\n",
       "      <th>Unnamed: 0</th>\n",
       "      <th>pc 1</th>\n",
       "      <th>pc 2</th>\n",
       "      <th>pc 3</th>\n",
       "      <th>pc 4</th>\n",
       "      <th>pc 5</th>\n",
       "      <th>pc 6</th>\n",
       "      <th>pc 7</th>\n",
       "      <th>pc 8</th>\n",
       "      <th>pc 9</th>\n",
       "      <th>...</th>\n",
       "      <th>pc 15</th>\n",
       "      <th>pc 16</th>\n",
       "      <th>pc 17</th>\n",
       "      <th>pc 18</th>\n",
       "      <th>pc 19</th>\n",
       "      <th>pc 20</th>\n",
       "      <th>pc 21</th>\n",
       "      <th>pc 22</th>\n",
       "      <th>pc 23</th>\n",
       "      <th>pc 24</th>\n",
       "    </tr>\n",
       "  </thead>\n",
       "  <tbody>\n",
       "    <tr>\n",
       "      <th>0</th>\n",
       "      <td>0</td>\n",
       "      <td>-2.192831</td>\n",
       "      <td>1.800494</td>\n",
       "      <td>3.308019</td>\n",
       "      <td>-0.277914</td>\n",
       "      <td>0.101557</td>\n",
       "      <td>0.665639</td>\n",
       "      <td>0.288985</td>\n",
       "      <td>-0.101940</td>\n",
       "      <td>0.183272</td>\n",
       "      <td>...</td>\n",
       "      <td>-0.013191</td>\n",
       "      <td>0.009942</td>\n",
       "      <td>0.034580</td>\n",
       "      <td>0.179227</td>\n",
       "      <td>-0.389620</td>\n",
       "      <td>0.051956</td>\n",
       "      <td>-0.043799</td>\n",
       "      <td>0.184138</td>\n",
       "      <td>-0.157453</td>\n",
       "      <td>0.200664</td>\n",
       "    </tr>\n",
       "    <tr>\n",
       "      <th>1</th>\n",
       "      <td>1</td>\n",
       "      <td>-0.863878</td>\n",
       "      <td>-0.577439</td>\n",
       "      <td>-0.788067</td>\n",
       "      <td>0.101133</td>\n",
       "      <td>-0.256703</td>\n",
       "      <td>-0.661505</td>\n",
       "      <td>-1.254593</td>\n",
       "      <td>-0.008865</td>\n",
       "      <td>-1.333032</td>\n",
       "      <td>...</td>\n",
       "      <td>0.033110</td>\n",
       "      <td>-0.032890</td>\n",
       "      <td>-0.009684</td>\n",
       "      <td>0.218655</td>\n",
       "      <td>0.453664</td>\n",
       "      <td>0.014732</td>\n",
       "      <td>0.354162</td>\n",
       "      <td>0.252695</td>\n",
       "      <td>0.095973</td>\n",
       "      <td>0.317483</td>\n",
       "    </tr>\n",
       "    <tr>\n",
       "      <th>2</th>\n",
       "      <td>2</td>\n",
       "      <td>2.560048</td>\n",
       "      <td>1.631406</td>\n",
       "      <td>-1.388237</td>\n",
       "      <td>-0.106714</td>\n",
       "      <td>0.972766</td>\n",
       "      <td>0.576218</td>\n",
       "      <td>-0.581675</td>\n",
       "      <td>-0.126118</td>\n",
       "      <td>-1.053229</td>\n",
       "      <td>...</td>\n",
       "      <td>-0.305880</td>\n",
       "      <td>-0.142796</td>\n",
       "      <td>2.854059</td>\n",
       "      <td>0.137400</td>\n",
       "      <td>-0.761497</td>\n",
       "      <td>0.052937</td>\n",
       "      <td>0.547460</td>\n",
       "      <td>-0.187990</td>\n",
       "      <td>0.099782</td>\n",
       "      <td>-0.768947</td>\n",
       "    </tr>\n",
       "    <tr>\n",
       "      <th>3</th>\n",
       "      <td>3</td>\n",
       "      <td>2.628972</td>\n",
       "      <td>1.694180</td>\n",
       "      <td>-1.410315</td>\n",
       "      <td>-0.108249</td>\n",
       "      <td>0.961122</td>\n",
       "      <td>0.655940</td>\n",
       "      <td>-0.443210</td>\n",
       "      <td>-0.132679</td>\n",
       "      <td>-1.024972</td>\n",
       "      <td>...</td>\n",
       "      <td>-0.328063</td>\n",
       "      <td>-0.149089</td>\n",
       "      <td>2.859057</td>\n",
       "      <td>0.096367</td>\n",
       "      <td>-0.689529</td>\n",
       "      <td>-0.008184</td>\n",
       "      <td>0.650076</td>\n",
       "      <td>-0.187266</td>\n",
       "      <td>0.097003</td>\n",
       "      <td>-0.722929</td>\n",
       "    </tr>\n",
       "    <tr>\n",
       "      <th>4</th>\n",
       "      <td>4</td>\n",
       "      <td>-2.286393</td>\n",
       "      <td>1.138013</td>\n",
       "      <td>2.272099</td>\n",
       "      <td>-0.141066</td>\n",
       "      <td>0.032071</td>\n",
       "      <td>0.226134</td>\n",
       "      <td>-0.073383</td>\n",
       "      <td>-0.043345</td>\n",
       "      <td>-0.099243</td>\n",
       "      <td>...</td>\n",
       "      <td>-0.107137</td>\n",
       "      <td>-0.020927</td>\n",
       "      <td>0.063157</td>\n",
       "      <td>0.028390</td>\n",
       "      <td>0.169548</td>\n",
       "      <td>0.003086</td>\n",
       "      <td>-0.161875</td>\n",
       "      <td>0.089957</td>\n",
       "      <td>-0.118395</td>\n",
       "      <td>0.169051</td>\n",
       "    </tr>\n",
       "  </tbody>\n",
       "</table>\n",
       "<p>5 rows × 25 columns</p>\n",
       "</div>"
      ],
      "text/plain": [
       "   Unnamed: 0      pc 1      pc 2      pc 3      pc 4      pc 5      pc 6  \\\n",
       "0           0 -2.192831  1.800494  3.308019 -0.277914  0.101557  0.665639   \n",
       "1           1 -0.863878 -0.577439 -0.788067  0.101133 -0.256703 -0.661505   \n",
       "2           2  2.560048  1.631406 -1.388237 -0.106714  0.972766  0.576218   \n",
       "3           3  2.628972  1.694180 -1.410315 -0.108249  0.961122  0.655940   \n",
       "4           4 -2.286393  1.138013  2.272099 -0.141066  0.032071  0.226134   \n",
       "\n",
       "       pc 7      pc 8      pc 9  ...     pc 15     pc 16     pc 17     pc 18  \\\n",
       "0  0.288985 -0.101940  0.183272  ... -0.013191  0.009942  0.034580  0.179227   \n",
       "1 -1.254593 -0.008865 -1.333032  ...  0.033110 -0.032890 -0.009684  0.218655   \n",
       "2 -0.581675 -0.126118 -1.053229  ... -0.305880 -0.142796  2.854059  0.137400   \n",
       "3 -0.443210 -0.132679 -1.024972  ... -0.328063 -0.149089  2.859057  0.096367   \n",
       "4 -0.073383 -0.043345 -0.099243  ... -0.107137 -0.020927  0.063157  0.028390   \n",
       "\n",
       "      pc 19     pc 20     pc 21     pc 22     pc 23     pc 24  \n",
       "0 -0.389620  0.051956 -0.043799  0.184138 -0.157453  0.200664  \n",
       "1  0.453664  0.014732  0.354162  0.252695  0.095973  0.317483  \n",
       "2 -0.761497  0.052937  0.547460 -0.187990  0.099782 -0.768947  \n",
       "3 -0.689529 -0.008184  0.650076 -0.187266  0.097003 -0.722929  \n",
       "4  0.169548  0.003086 -0.161875  0.089957 -0.118395  0.169051  \n",
       "\n",
       "[5 rows x 25 columns]"
      ]
     },
     "execution_count": 17,
     "metadata": {},
     "output_type": "execute_result"
    }
   ],
   "source": [
    "pca_data.head()"
   ]
  },
  {
   "cell_type": "code",
   "execution_count": 18,
   "metadata": {},
   "outputs": [],
   "source": [
    "pca_data = pca_data.drop(['Unnamed: 0'],axis=1)"
   ]
  },
  {
   "cell_type": "code",
   "execution_count": 19,
   "metadata": {},
   "outputs": [
    {
     "data": {
      "text/html": [
       "<div>\n",
       "<style scoped>\n",
       "    .dataframe tbody tr th:only-of-type {\n",
       "        vertical-align: middle;\n",
       "    }\n",
       "\n",
       "    .dataframe tbody tr th {\n",
       "        vertical-align: top;\n",
       "    }\n",
       "\n",
       "    .dataframe thead th {\n",
       "        text-align: right;\n",
       "    }\n",
       "</style>\n",
       "<table border=\"1\" class=\"dataframe\">\n",
       "  <thead>\n",
       "    <tr style=\"text-align: right;\">\n",
       "      <th></th>\n",
       "      <th>pc 1</th>\n",
       "      <th>pc 2</th>\n",
       "      <th>pc 3</th>\n",
       "      <th>pc 4</th>\n",
       "      <th>pc 5</th>\n",
       "      <th>pc 6</th>\n",
       "      <th>pc 7</th>\n",
       "      <th>pc 8</th>\n",
       "      <th>pc 9</th>\n",
       "      <th>pc 10</th>\n",
       "      <th>...</th>\n",
       "      <th>pc 15</th>\n",
       "      <th>pc 16</th>\n",
       "      <th>pc 17</th>\n",
       "      <th>pc 18</th>\n",
       "      <th>pc 19</th>\n",
       "      <th>pc 20</th>\n",
       "      <th>pc 21</th>\n",
       "      <th>pc 22</th>\n",
       "      <th>pc 23</th>\n",
       "      <th>pc 24</th>\n",
       "    </tr>\n",
       "  </thead>\n",
       "  <tbody>\n",
       "    <tr>\n",
       "      <th>0</th>\n",
       "      <td>-2.192831</td>\n",
       "      <td>1.800494</td>\n",
       "      <td>3.308019</td>\n",
       "      <td>-0.277914</td>\n",
       "      <td>0.101557</td>\n",
       "      <td>0.665639</td>\n",
       "      <td>0.288985</td>\n",
       "      <td>-0.101940</td>\n",
       "      <td>0.183272</td>\n",
       "      <td>0.021392</td>\n",
       "      <td>...</td>\n",
       "      <td>-0.013191</td>\n",
       "      <td>0.009942</td>\n",
       "      <td>0.034580</td>\n",
       "      <td>0.179227</td>\n",
       "      <td>-0.389620</td>\n",
       "      <td>0.051956</td>\n",
       "      <td>-0.043799</td>\n",
       "      <td>0.184138</td>\n",
       "      <td>-0.157453</td>\n",
       "      <td>0.200664</td>\n",
       "    </tr>\n",
       "    <tr>\n",
       "      <th>1</th>\n",
       "      <td>-0.863878</td>\n",
       "      <td>-0.577439</td>\n",
       "      <td>-0.788067</td>\n",
       "      <td>0.101133</td>\n",
       "      <td>-0.256703</td>\n",
       "      <td>-0.661505</td>\n",
       "      <td>-1.254593</td>\n",
       "      <td>-0.008865</td>\n",
       "      <td>-1.333032</td>\n",
       "      <td>-0.024711</td>\n",
       "      <td>...</td>\n",
       "      <td>0.033110</td>\n",
       "      <td>-0.032890</td>\n",
       "      <td>-0.009684</td>\n",
       "      <td>0.218655</td>\n",
       "      <td>0.453664</td>\n",
       "      <td>0.014732</td>\n",
       "      <td>0.354162</td>\n",
       "      <td>0.252695</td>\n",
       "      <td>0.095973</td>\n",
       "      <td>0.317483</td>\n",
       "    </tr>\n",
       "    <tr>\n",
       "      <th>2</th>\n",
       "      <td>2.560048</td>\n",
       "      <td>1.631406</td>\n",
       "      <td>-1.388237</td>\n",
       "      <td>-0.106714</td>\n",
       "      <td>0.972766</td>\n",
       "      <td>0.576218</td>\n",
       "      <td>-0.581675</td>\n",
       "      <td>-0.126118</td>\n",
       "      <td>-1.053229</td>\n",
       "      <td>-0.032459</td>\n",
       "      <td>...</td>\n",
       "      <td>-0.305880</td>\n",
       "      <td>-0.142796</td>\n",
       "      <td>2.854059</td>\n",
       "      <td>0.137400</td>\n",
       "      <td>-0.761497</td>\n",
       "      <td>0.052937</td>\n",
       "      <td>0.547460</td>\n",
       "      <td>-0.187990</td>\n",
       "      <td>0.099782</td>\n",
       "      <td>-0.768947</td>\n",
       "    </tr>\n",
       "    <tr>\n",
       "      <th>3</th>\n",
       "      <td>2.628972</td>\n",
       "      <td>1.694180</td>\n",
       "      <td>-1.410315</td>\n",
       "      <td>-0.108249</td>\n",
       "      <td>0.961122</td>\n",
       "      <td>0.655940</td>\n",
       "      <td>-0.443210</td>\n",
       "      <td>-0.132679</td>\n",
       "      <td>-1.024972</td>\n",
       "      <td>-0.022419</td>\n",
       "      <td>...</td>\n",
       "      <td>-0.328063</td>\n",
       "      <td>-0.149089</td>\n",
       "      <td>2.859057</td>\n",
       "      <td>0.096367</td>\n",
       "      <td>-0.689529</td>\n",
       "      <td>-0.008184</td>\n",
       "      <td>0.650076</td>\n",
       "      <td>-0.187266</td>\n",
       "      <td>0.097003</td>\n",
       "      <td>-0.722929</td>\n",
       "    </tr>\n",
       "    <tr>\n",
       "      <th>4</th>\n",
       "      <td>-2.286393</td>\n",
       "      <td>1.138013</td>\n",
       "      <td>2.272099</td>\n",
       "      <td>-0.141066</td>\n",
       "      <td>0.032071</td>\n",
       "      <td>0.226134</td>\n",
       "      <td>-0.073383</td>\n",
       "      <td>-0.043345</td>\n",
       "      <td>-0.099243</td>\n",
       "      <td>-0.111845</td>\n",
       "      <td>...</td>\n",
       "      <td>-0.107137</td>\n",
       "      <td>-0.020927</td>\n",
       "      <td>0.063157</td>\n",
       "      <td>0.028390</td>\n",
       "      <td>0.169548</td>\n",
       "      <td>0.003086</td>\n",
       "      <td>-0.161875</td>\n",
       "      <td>0.089957</td>\n",
       "      <td>-0.118395</td>\n",
       "      <td>0.169051</td>\n",
       "    </tr>\n",
       "  </tbody>\n",
       "</table>\n",
       "<p>5 rows × 24 columns</p>\n",
       "</div>"
      ],
      "text/plain": [
       "       pc 1      pc 2      pc 3      pc 4      pc 5      pc 6      pc 7  \\\n",
       "0 -2.192831  1.800494  3.308019 -0.277914  0.101557  0.665639  0.288985   \n",
       "1 -0.863878 -0.577439 -0.788067  0.101133 -0.256703 -0.661505 -1.254593   \n",
       "2  2.560048  1.631406 -1.388237 -0.106714  0.972766  0.576218 -0.581675   \n",
       "3  2.628972  1.694180 -1.410315 -0.108249  0.961122  0.655940 -0.443210   \n",
       "4 -2.286393  1.138013  2.272099 -0.141066  0.032071  0.226134 -0.073383   \n",
       "\n",
       "       pc 8      pc 9     pc 10  ...     pc 15     pc 16     pc 17     pc 18  \\\n",
       "0 -0.101940  0.183272  0.021392  ... -0.013191  0.009942  0.034580  0.179227   \n",
       "1 -0.008865 -1.333032 -0.024711  ...  0.033110 -0.032890 -0.009684  0.218655   \n",
       "2 -0.126118 -1.053229 -0.032459  ... -0.305880 -0.142796  2.854059  0.137400   \n",
       "3 -0.132679 -1.024972 -0.022419  ... -0.328063 -0.149089  2.859057  0.096367   \n",
       "4 -0.043345 -0.099243 -0.111845  ... -0.107137 -0.020927  0.063157  0.028390   \n",
       "\n",
       "      pc 19     pc 20     pc 21     pc 22     pc 23     pc 24  \n",
       "0 -0.389620  0.051956 -0.043799  0.184138 -0.157453  0.200664  \n",
       "1  0.453664  0.014732  0.354162  0.252695  0.095973  0.317483  \n",
       "2 -0.761497  0.052937  0.547460 -0.187990  0.099782 -0.768947  \n",
       "3 -0.689529 -0.008184  0.650076 -0.187266  0.097003 -0.722929  \n",
       "4  0.169548  0.003086 -0.161875  0.089957 -0.118395  0.169051  \n",
       "\n",
       "[5 rows x 24 columns]"
      ]
     },
     "execution_count": 19,
     "metadata": {},
     "output_type": "execute_result"
    }
   ],
   "source": [
    "pca_data.head()"
   ]
  },
  {
   "cell_type": "code",
   "execution_count": 15,
   "metadata": {},
   "outputs": [
    {
     "data": {
      "text/html": [
       "<div>\n",
       "<style scoped>\n",
       "    .dataframe tbody tr th:only-of-type {\n",
       "        vertical-align: middle;\n",
       "    }\n",
       "\n",
       "    .dataframe tbody tr th {\n",
       "        vertical-align: top;\n",
       "    }\n",
       "\n",
       "    .dataframe thead th {\n",
       "        text-align: right;\n",
       "    }\n",
       "</style>\n",
       "<table border=\"1\" class=\"dataframe\">\n",
       "  <thead>\n",
       "    <tr style=\"text-align: right;\">\n",
       "      <th></th>\n",
       "      <th>pc 1</th>\n",
       "      <th>pc 2</th>\n",
       "      <th>pc 3</th>\n",
       "      <th>pc 4</th>\n",
       "      <th>pc 5</th>\n",
       "      <th>pc 6</th>\n",
       "      <th>pc 7</th>\n",
       "      <th>pc 8</th>\n",
       "      <th>pc 9</th>\n",
       "      <th>pc 10</th>\n",
       "      <th>...</th>\n",
       "      <th>pc 15</th>\n",
       "      <th>pc 16</th>\n",
       "      <th>pc 17</th>\n",
       "      <th>pc 18</th>\n",
       "      <th>pc 19</th>\n",
       "      <th>pc 20</th>\n",
       "      <th>pc 21</th>\n",
       "      <th>pc 22</th>\n",
       "      <th>pc 23</th>\n",
       "      <th>pc 24</th>\n",
       "    </tr>\n",
       "  </thead>\n",
       "  <tbody>\n",
       "    <tr>\n",
       "      <th>count</th>\n",
       "      <td>1.513949e+07</td>\n",
       "      <td>1.513949e+07</td>\n",
       "      <td>1.513949e+07</td>\n",
       "      <td>1.513949e+07</td>\n",
       "      <td>1.513949e+07</td>\n",
       "      <td>1.513949e+07</td>\n",
       "      <td>1.513949e+07</td>\n",
       "      <td>1.513949e+07</td>\n",
       "      <td>1.513949e+07</td>\n",
       "      <td>1.513949e+07</td>\n",
       "      <td>...</td>\n",
       "      <td>1.513949e+07</td>\n",
       "      <td>1.513949e+07</td>\n",
       "      <td>1.513949e+07</td>\n",
       "      <td>1.513949e+07</td>\n",
       "      <td>1.513949e+07</td>\n",
       "      <td>1.513949e+07</td>\n",
       "      <td>1.513949e+07</td>\n",
       "      <td>1.513949e+07</td>\n",
       "      <td>1.513949e+07</td>\n",
       "      <td>1.513949e+07</td>\n",
       "    </tr>\n",
       "    <tr>\n",
       "      <th>mean</th>\n",
       "      <td>-2.689377e-16</td>\n",
       "      <td>2.367792e-16</td>\n",
       "      <td>4.191685e-17</td>\n",
       "      <td>-2.902265e-16</td>\n",
       "      <td>3.958184e-16</td>\n",
       "      <td>2.238041e-16</td>\n",
       "      <td>-3.019485e-17</td>\n",
       "      <td>1.207494e-17</td>\n",
       "      <td>1.424723e-15</td>\n",
       "      <td>1.905306e-15</td>\n",
       "      <td>...</td>\n",
       "      <td>4.071161e-16</td>\n",
       "      <td>9.628374e-16</td>\n",
       "      <td>3.815986e-17</td>\n",
       "      <td>-1.733033e-15</td>\n",
       "      <td>1.159789e-16</td>\n",
       "      <td>-1.439775e-15</td>\n",
       "      <td>1.109918e-15</td>\n",
       "      <td>-1.139741e-16</td>\n",
       "      <td>-2.337543e-16</td>\n",
       "      <td>-7.389122e-16</td>\n",
       "    </tr>\n",
       "    <tr>\n",
       "      <th>std</th>\n",
       "      <td>2.833408e+00</td>\n",
       "      <td>2.344053e+00</td>\n",
       "      <td>2.151928e+00</td>\n",
       "      <td>1.762855e+00</td>\n",
       "      <td>1.707147e+00</td>\n",
       "      <td>1.507694e+00</td>\n",
       "      <td>1.388709e+00</td>\n",
       "      <td>1.338825e+00</td>\n",
       "      <td>1.251700e+00</td>\n",
       "      <td>1.116354e+00</td>\n",
       "      <td>...</td>\n",
       "      <td>9.654765e-01</td>\n",
       "      <td>9.500041e-01</td>\n",
       "      <td>8.951511e-01</td>\n",
       "      <td>8.870350e-01</td>\n",
       "      <td>8.213050e-01</td>\n",
       "      <td>8.167296e-01</td>\n",
       "      <td>7.657361e-01</td>\n",
       "      <td>7.036316e-01</td>\n",
       "      <td>6.903794e-01</td>\n",
       "      <td>6.336708e-01</td>\n",
       "    </tr>\n",
       "    <tr>\n",
       "      <th>min</th>\n",
       "      <td>-9.610485e+00</td>\n",
       "      <td>-2.354319e+01</td>\n",
       "      <td>-2.468967e+01</td>\n",
       "      <td>-1.993913e+01</td>\n",
       "      <td>-7.458418e+01</td>\n",
       "      <td>-1.248178e+01</td>\n",
       "      <td>-1.878782e+02</td>\n",
       "      <td>-6.325032e+00</td>\n",
       "      <td>-8.662450e+01</td>\n",
       "      <td>-3.640584e+01</td>\n",
       "      <td>...</td>\n",
       "      <td>-1.806774e+02</td>\n",
       "      <td>-5.528329e+01</td>\n",
       "      <td>-8.055620e+01</td>\n",
       "      <td>-1.903892e+02</td>\n",
       "      <td>-7.874071e+00</td>\n",
       "      <td>-1.253143e+02</td>\n",
       "      <td>-1.222416e+02</td>\n",
       "      <td>-2.300740e+01</td>\n",
       "      <td>-3.096415e+01</td>\n",
       "      <td>-4.207222e+01</td>\n",
       "    </tr>\n",
       "    <tr>\n",
       "      <th>25%</th>\n",
       "      <td>-2.204109e+00</td>\n",
       "      <td>-1.049132e+00</td>\n",
       "      <td>-1.402220e+00</td>\n",
       "      <td>-1.611644e-01</td>\n",
       "      <td>-3.128459e-01</td>\n",
       "      <td>-8.378382e-01</td>\n",
       "      <td>-6.825984e-01</td>\n",
       "      <td>-8.081070e-02</td>\n",
       "      <td>-6.005343e-01</td>\n",
       "      <td>-2.393851e-01</td>\n",
       "      <td>...</td>\n",
       "      <td>-2.417907e-01</td>\n",
       "      <td>-7.868235e-02</td>\n",
       "      <td>-2.795947e-01</td>\n",
       "      <td>-1.603193e-01</td>\n",
       "      <td>-2.166173e-01</td>\n",
       "      <td>-4.387596e-01</td>\n",
       "      <td>-2.274823e-01</td>\n",
       "      <td>-1.514238e-01</td>\n",
       "      <td>-2.370455e-01</td>\n",
       "      <td>-2.809877e-01</td>\n",
       "    </tr>\n",
       "    <tr>\n",
       "      <th>50%</th>\n",
       "      <td>-1.684982e+00</td>\n",
       "      <td>8.496823e-01</td>\n",
       "      <td>-8.974839e-01</td>\n",
       "      <td>-9.384547e-04</td>\n",
       "      <td>3.331210e-02</td>\n",
       "      <td>-6.603716e-02</td>\n",
       "      <td>-4.837343e-02</td>\n",
       "      <td>-2.253094e-02</td>\n",
       "      <td>-7.026255e-02</td>\n",
       "      <td>3.547168e-03</td>\n",
       "      <td>...</td>\n",
       "      <td>-3.024700e-02</td>\n",
       "      <td>-5.723523e-03</td>\n",
       "      <td>4.616117e-02</td>\n",
       "      <td>5.470874e-02</td>\n",
       "      <td>1.361365e-01</td>\n",
       "      <td>-8.533765e-03</td>\n",
       "      <td>-4.706765e-02</td>\n",
       "      <td>2.536472e-02</td>\n",
       "      <td>-3.884736e-02</td>\n",
       "      <td>9.155727e-02</td>\n",
       "    </tr>\n",
       "    <tr>\n",
       "      <th>75%</th>\n",
       "      <td>2.240860e+00</td>\n",
       "      <td>1.443555e+00</td>\n",
       "      <td>2.244223e+00</td>\n",
       "      <td>7.051613e-02</td>\n",
       "      <td>3.315711e-01</td>\n",
       "      <td>3.695791e-01</td>\n",
       "      <td>3.722320e-01</td>\n",
       "      <td>6.785591e-02</td>\n",
       "      <td>2.351729e-01</td>\n",
       "      <td>3.074229e-01</td>\n",
       "      <td>...</td>\n",
       "      <td>3.638020e-01</td>\n",
       "      <td>5.687949e-02</td>\n",
       "      <td>3.222429e-01</td>\n",
       "      <td>1.962840e-01</td>\n",
       "      <td>3.151973e-01</td>\n",
       "      <td>1.814607e-01</td>\n",
       "      <td>2.836544e-01</td>\n",
       "      <td>2.189954e-01</td>\n",
       "      <td>3.306650e-01</td>\n",
       "      <td>3.457961e-01</td>\n",
       "    </tr>\n",
       "    <tr>\n",
       "      <th>max</th>\n",
       "      <td>4.767609e+02</td>\n",
       "      <td>1.976512e+02</td>\n",
       "      <td>4.694782e+01</td>\n",
       "      <td>6.852107e+01</td>\n",
       "      <td>7.676382e+01</td>\n",
       "      <td>1.699955e+02</td>\n",
       "      <td>2.344034e+02</td>\n",
       "      <td>1.688396e+03</td>\n",
       "      <td>6.276733e+02</td>\n",
       "      <td>7.957490e+02</td>\n",
       "      <td>...</td>\n",
       "      <td>3.053413e+02</td>\n",
       "      <td>8.449603e+01</td>\n",
       "      <td>4.742050e+02</td>\n",
       "      <td>3.035355e+02</td>\n",
       "      <td>1.327480e+03</td>\n",
       "      <td>6.941168e+02</td>\n",
       "      <td>2.807710e+02</td>\n",
       "      <td>3.536025e+01</td>\n",
       "      <td>5.328590e+01</td>\n",
       "      <td>6.203372e+01</td>\n",
       "    </tr>\n",
       "  </tbody>\n",
       "</table>\n",
       "<p>8 rows × 24 columns</p>\n",
       "</div>"
      ],
      "text/plain": [
       "               pc 1          pc 2          pc 3          pc 4          pc 5  \\\n",
       "count  1.513949e+07  1.513949e+07  1.513949e+07  1.513949e+07  1.513949e+07   \n",
       "mean  -2.689377e-16  2.367792e-16  4.191685e-17 -2.902265e-16  3.958184e-16   \n",
       "std    2.833408e+00  2.344053e+00  2.151928e+00  1.762855e+00  1.707147e+00   \n",
       "min   -9.610485e+00 -2.354319e+01 -2.468967e+01 -1.993913e+01 -7.458418e+01   \n",
       "25%   -2.204109e+00 -1.049132e+00 -1.402220e+00 -1.611644e-01 -3.128459e-01   \n",
       "50%   -1.684982e+00  8.496823e-01 -8.974839e-01 -9.384547e-04  3.331210e-02   \n",
       "75%    2.240860e+00  1.443555e+00  2.244223e+00  7.051613e-02  3.315711e-01   \n",
       "max    4.767609e+02  1.976512e+02  4.694782e+01  6.852107e+01  7.676382e+01   \n",
       "\n",
       "               pc 6          pc 7          pc 8          pc 9         pc 10  \\\n",
       "count  1.513949e+07  1.513949e+07  1.513949e+07  1.513949e+07  1.513949e+07   \n",
       "mean   2.238041e-16 -3.019485e-17  1.207494e-17  1.424723e-15  1.905306e-15   \n",
       "std    1.507694e+00  1.388709e+00  1.338825e+00  1.251700e+00  1.116354e+00   \n",
       "min   -1.248178e+01 -1.878782e+02 -6.325032e+00 -8.662450e+01 -3.640584e+01   \n",
       "25%   -8.378382e-01 -6.825984e-01 -8.081070e-02 -6.005343e-01 -2.393851e-01   \n",
       "50%   -6.603716e-02 -4.837343e-02 -2.253094e-02 -7.026255e-02  3.547168e-03   \n",
       "75%    3.695791e-01  3.722320e-01  6.785591e-02  2.351729e-01  3.074229e-01   \n",
       "max    1.699955e+02  2.344034e+02  1.688396e+03  6.276733e+02  7.957490e+02   \n",
       "\n",
       "       ...         pc 15         pc 16         pc 17         pc 18  \\\n",
       "count  ...  1.513949e+07  1.513949e+07  1.513949e+07  1.513949e+07   \n",
       "mean   ...  4.071161e-16  9.628374e-16  3.815986e-17 -1.733033e-15   \n",
       "std    ...  9.654765e-01  9.500041e-01  8.951511e-01  8.870350e-01   \n",
       "min    ... -1.806774e+02 -5.528329e+01 -8.055620e+01 -1.903892e+02   \n",
       "25%    ... -2.417907e-01 -7.868235e-02 -2.795947e-01 -1.603193e-01   \n",
       "50%    ... -3.024700e-02 -5.723523e-03  4.616117e-02  5.470874e-02   \n",
       "75%    ...  3.638020e-01  5.687949e-02  3.222429e-01  1.962840e-01   \n",
       "max    ...  3.053413e+02  8.449603e+01  4.742050e+02  3.035355e+02   \n",
       "\n",
       "              pc 19         pc 20         pc 21         pc 22         pc 23  \\\n",
       "count  1.513949e+07  1.513949e+07  1.513949e+07  1.513949e+07  1.513949e+07   \n",
       "mean   1.159789e-16 -1.439775e-15  1.109918e-15 -1.139741e-16 -2.337543e-16   \n",
       "std    8.213050e-01  8.167296e-01  7.657361e-01  7.036316e-01  6.903794e-01   \n",
       "min   -7.874071e+00 -1.253143e+02 -1.222416e+02 -2.300740e+01 -3.096415e+01   \n",
       "25%   -2.166173e-01 -4.387596e-01 -2.274823e-01 -1.514238e-01 -2.370455e-01   \n",
       "50%    1.361365e-01 -8.533765e-03 -4.706765e-02  2.536472e-02 -3.884736e-02   \n",
       "75%    3.151973e-01  1.814607e-01  2.836544e-01  2.189954e-01  3.306650e-01   \n",
       "max    1.327480e+03  6.941168e+02  2.807710e+02  3.536025e+01  5.328590e+01   \n",
       "\n",
       "              pc 24  \n",
       "count  1.513949e+07  \n",
       "mean  -7.389122e-16  \n",
       "std    6.336708e-01  \n",
       "min   -4.207222e+01  \n",
       "25%   -2.809877e-01  \n",
       "50%    9.155727e-02  \n",
       "75%    3.457961e-01  \n",
       "max    6.203372e+01  \n",
       "\n",
       "[8 rows x 24 columns]"
      ]
     },
     "execution_count": 15,
     "metadata": {},
     "output_type": "execute_result"
    }
   ],
   "source": [
    "pca_data.describe().compute()"
   ]
  },
  {
   "cell_type": "code",
   "execution_count": 6,
   "metadata": {},
   "outputs": [
    {
     "name": "stdout",
     "output_type": "stream",
     "text": [
      "<class 'dask.dataframe.core.DataFrame'>\n",
      "Columns: 24 entries, pc 1 to pc 24\n",
      "dtypes: float64(24)"
     ]
    }
   ],
   "source": [
    "pca_data.info()"
   ]
  },
  {
   "cell_type": "code",
   "execution_count": 20,
   "metadata": {},
   "outputs": [],
   "source": [
    "pca_data2 = pca_data.astype(np.float32).compute()"
   ]
  },
  {
   "cell_type": "code",
   "execution_count": 21,
   "metadata": {},
   "outputs": [
    {
     "data": {
      "text/plain": [
       "3322"
      ]
     },
     "execution_count": 21,
     "metadata": {},
     "output_type": "execute_result"
    }
   ],
   "source": [
    "del(pca_data)\n",
    "gc.collect()"
   ]
  },
  {
   "cell_type": "code",
   "execution_count": 22,
   "metadata": {},
   "outputs": [
    {
     "name": "stdout",
     "output_type": "stream",
     "text": [
      "<class 'pandas.core.frame.DataFrame'>\n",
      "Int64Index: 15139493 entries, 0 to 131454\n",
      "Data columns (total 24 columns):\n",
      " #   Column  Dtype  \n",
      "---  ------  -----  \n",
      " 0   pc 1    float32\n",
      " 1   pc 2    float32\n",
      " 2   pc 3    float32\n",
      " 3   pc 4    float32\n",
      " 4   pc 5    float32\n",
      " 5   pc 6    float32\n",
      " 6   pc 7    float32\n",
      " 7   pc 8    float32\n",
      " 8   pc 9    float32\n",
      " 9   pc 10   float32\n",
      " 10  pc 11   float32\n",
      " 11  pc 12   float32\n",
      " 12  pc 13   float32\n",
      " 13  pc 14   float32\n",
      " 14  pc 15   float32\n",
      " 15  pc 16   float32\n",
      " 16  pc 17   float32\n",
      " 17  pc 18   float32\n",
      " 18  pc 19   float32\n",
      " 19  pc 20   float32\n",
      " 20  pc 21   float32\n",
      " 21  pc 22   float32\n",
      " 22  pc 23   float32\n",
      " 23  pc 24   float32\n",
      "dtypes: float32(24)\n",
      "memory usage: 1.5 GB\n"
     ]
    }
   ],
   "source": [
    "pca_data2.info()"
   ]
  },
  {
   "cell_type": "code",
   "execution_count": 24,
   "metadata": {},
   "outputs": [
    {
     "data": {
      "text/plain": [
       "pandas.core.frame.DataFrame"
      ]
     },
     "execution_count": 24,
     "metadata": {},
     "output_type": "execute_result"
    }
   ],
   "source": [
    "type(pca_data2)"
   ]
  },
  {
   "cell_type": "code",
   "execution_count": 28,
   "metadata": {},
   "outputs": [],
   "source": [
    "pca_data2['Label'] = y.values"
   ]
  },
  {
   "cell_type": "code",
   "execution_count": 29,
   "metadata": {},
   "outputs": [
    {
     "data": {
      "text/html": [
       "<div>\n",
       "<style scoped>\n",
       "    .dataframe tbody tr th:only-of-type {\n",
       "        vertical-align: middle;\n",
       "    }\n",
       "\n",
       "    .dataframe tbody tr th {\n",
       "        vertical-align: top;\n",
       "    }\n",
       "\n",
       "    .dataframe thead th {\n",
       "        text-align: right;\n",
       "    }\n",
       "</style>\n",
       "<table border=\"1\" class=\"dataframe\">\n",
       "  <thead>\n",
       "    <tr style=\"text-align: right;\">\n",
       "      <th></th>\n",
       "      <th>pc 1</th>\n",
       "      <th>pc 2</th>\n",
       "      <th>pc 3</th>\n",
       "      <th>pc 4</th>\n",
       "      <th>pc 5</th>\n",
       "      <th>pc 6</th>\n",
       "      <th>pc 7</th>\n",
       "      <th>pc 8</th>\n",
       "      <th>pc 9</th>\n",
       "      <th>pc 10</th>\n",
       "      <th>...</th>\n",
       "      <th>pc 16</th>\n",
       "      <th>pc 17</th>\n",
       "      <th>pc 18</th>\n",
       "      <th>pc 19</th>\n",
       "      <th>pc 20</th>\n",
       "      <th>pc 21</th>\n",
       "      <th>pc 22</th>\n",
       "      <th>pc 23</th>\n",
       "      <th>pc 24</th>\n",
       "      <th>Label</th>\n",
       "    </tr>\n",
       "  </thead>\n",
       "  <tbody>\n",
       "    <tr>\n",
       "      <th>0</th>\n",
       "      <td>-2.192831</td>\n",
       "      <td>1.800493</td>\n",
       "      <td>3.308019</td>\n",
       "      <td>-0.277914</td>\n",
       "      <td>0.101557</td>\n",
       "      <td>0.665639</td>\n",
       "      <td>0.288985</td>\n",
       "      <td>-0.101940</td>\n",
       "      <td>0.183272</td>\n",
       "      <td>0.021392</td>\n",
       "      <td>...</td>\n",
       "      <td>0.009942</td>\n",
       "      <td>0.034580</td>\n",
       "      <td>0.179227</td>\n",
       "      <td>-0.389620</td>\n",
       "      <td>0.051956</td>\n",
       "      <td>-0.043799</td>\n",
       "      <td>0.184138</td>\n",
       "      <td>-0.157453</td>\n",
       "      <td>0.200664</td>\n",
       "      <td>0</td>\n",
       "    </tr>\n",
       "    <tr>\n",
       "      <th>1</th>\n",
       "      <td>-0.863878</td>\n",
       "      <td>-0.577439</td>\n",
       "      <td>-0.788067</td>\n",
       "      <td>0.101133</td>\n",
       "      <td>-0.256703</td>\n",
       "      <td>-0.661505</td>\n",
       "      <td>-1.254593</td>\n",
       "      <td>-0.008865</td>\n",
       "      <td>-1.333032</td>\n",
       "      <td>-0.024711</td>\n",
       "      <td>...</td>\n",
       "      <td>-0.032890</td>\n",
       "      <td>-0.009684</td>\n",
       "      <td>0.218655</td>\n",
       "      <td>0.453664</td>\n",
       "      <td>0.014732</td>\n",
       "      <td>0.354162</td>\n",
       "      <td>0.252695</td>\n",
       "      <td>0.095973</td>\n",
       "      <td>0.317483</td>\n",
       "      <td>0</td>\n",
       "    </tr>\n",
       "    <tr>\n",
       "      <th>2</th>\n",
       "      <td>2.560048</td>\n",
       "      <td>1.631406</td>\n",
       "      <td>-1.388237</td>\n",
       "      <td>-0.106714</td>\n",
       "      <td>0.972766</td>\n",
       "      <td>0.576218</td>\n",
       "      <td>-0.581675</td>\n",
       "      <td>-0.126118</td>\n",
       "      <td>-1.053229</td>\n",
       "      <td>-0.032459</td>\n",
       "      <td>...</td>\n",
       "      <td>-0.142796</td>\n",
       "      <td>2.854059</td>\n",
       "      <td>0.137400</td>\n",
       "      <td>-0.761497</td>\n",
       "      <td>0.052937</td>\n",
       "      <td>0.547460</td>\n",
       "      <td>-0.187990</td>\n",
       "      <td>0.099782</td>\n",
       "      <td>-0.768947</td>\n",
       "      <td>1</td>\n",
       "    </tr>\n",
       "    <tr>\n",
       "      <th>3</th>\n",
       "      <td>2.628972</td>\n",
       "      <td>1.694180</td>\n",
       "      <td>-1.410315</td>\n",
       "      <td>-0.108249</td>\n",
       "      <td>0.961122</td>\n",
       "      <td>0.655940</td>\n",
       "      <td>-0.443210</td>\n",
       "      <td>-0.132679</td>\n",
       "      <td>-1.024972</td>\n",
       "      <td>-0.022419</td>\n",
       "      <td>...</td>\n",
       "      <td>-0.149089</td>\n",
       "      <td>2.859057</td>\n",
       "      <td>0.096367</td>\n",
       "      <td>-0.689529</td>\n",
       "      <td>-0.008184</td>\n",
       "      <td>0.650076</td>\n",
       "      <td>-0.187266</td>\n",
       "      <td>0.097003</td>\n",
       "      <td>-0.722929</td>\n",
       "      <td>1</td>\n",
       "    </tr>\n",
       "    <tr>\n",
       "      <th>4</th>\n",
       "      <td>-2.286393</td>\n",
       "      <td>1.138013</td>\n",
       "      <td>2.272099</td>\n",
       "      <td>-0.141066</td>\n",
       "      <td>0.032071</td>\n",
       "      <td>0.226134</td>\n",
       "      <td>-0.073383</td>\n",
       "      <td>-0.043345</td>\n",
       "      <td>-0.099243</td>\n",
       "      <td>-0.111845</td>\n",
       "      <td>...</td>\n",
       "      <td>-0.020927</td>\n",
       "      <td>0.063157</td>\n",
       "      <td>0.028390</td>\n",
       "      <td>0.169548</td>\n",
       "      <td>0.003086</td>\n",
       "      <td>-0.161875</td>\n",
       "      <td>0.089957</td>\n",
       "      <td>-0.118395</td>\n",
       "      <td>0.169051</td>\n",
       "      <td>0</td>\n",
       "    </tr>\n",
       "  </tbody>\n",
       "</table>\n",
       "<p>5 rows × 25 columns</p>\n",
       "</div>"
      ],
      "text/plain": [
       "       pc 1      pc 2      pc 3      pc 4      pc 5      pc 6      pc 7  \\\n",
       "0 -2.192831  1.800493  3.308019 -0.277914  0.101557  0.665639  0.288985   \n",
       "1 -0.863878 -0.577439 -0.788067  0.101133 -0.256703 -0.661505 -1.254593   \n",
       "2  2.560048  1.631406 -1.388237 -0.106714  0.972766  0.576218 -0.581675   \n",
       "3  2.628972  1.694180 -1.410315 -0.108249  0.961122  0.655940 -0.443210   \n",
       "4 -2.286393  1.138013  2.272099 -0.141066  0.032071  0.226134 -0.073383   \n",
       "\n",
       "       pc 8      pc 9     pc 10  ...     pc 16     pc 17     pc 18     pc 19  \\\n",
       "0 -0.101940  0.183272  0.021392  ...  0.009942  0.034580  0.179227 -0.389620   \n",
       "1 -0.008865 -1.333032 -0.024711  ... -0.032890 -0.009684  0.218655  0.453664   \n",
       "2 -0.126118 -1.053229 -0.032459  ... -0.142796  2.854059  0.137400 -0.761497   \n",
       "3 -0.132679 -1.024972 -0.022419  ... -0.149089  2.859057  0.096367 -0.689529   \n",
       "4 -0.043345 -0.099243 -0.111845  ... -0.020927  0.063157  0.028390  0.169548   \n",
       "\n",
       "      pc 20     pc 21     pc 22     pc 23     pc 24  Label  \n",
       "0  0.051956 -0.043799  0.184138 -0.157453  0.200664      0  \n",
       "1  0.014732  0.354162  0.252695  0.095973  0.317483      0  \n",
       "2  0.052937  0.547460 -0.187990  0.099782 -0.768947      1  \n",
       "3 -0.008184  0.650076 -0.187266  0.097003 -0.722929      1  \n",
       "4  0.003086 -0.161875  0.089957 -0.118395  0.169051      0  \n",
       "\n",
       "[5 rows x 25 columns]"
      ]
     },
     "execution_count": 29,
     "metadata": {},
     "output_type": "execute_result"
    }
   ],
   "source": [
    "pca_data2.head()"
   ]
  },
  {
   "cell_type": "code",
   "execution_count": 30,
   "metadata": {},
   "outputs": [
    {
     "name": "stdout",
     "output_type": "stream",
     "text": [
      "<class 'pandas.core.frame.DataFrame'>\n",
      "Int64Index: 15139493 entries, 0 to 131454\n",
      "Data columns (total 25 columns):\n",
      " #   Column  Dtype  \n",
      "---  ------  -----  \n",
      " 0   pc 1    float32\n",
      " 1   pc 2    float32\n",
      " 2   pc 3    float32\n",
      " 3   pc 4    float32\n",
      " 4   pc 5    float32\n",
      " 5   pc 6    float32\n",
      " 6   pc 7    float32\n",
      " 7   pc 8    float32\n",
      " 8   pc 9    float32\n",
      " 9   pc 10   float32\n",
      " 10  pc 11   float32\n",
      " 11  pc 12   float32\n",
      " 12  pc 13   float32\n",
      " 13  pc 14   float32\n",
      " 14  pc 15   float32\n",
      " 15  pc 16   float32\n",
      " 16  pc 17   float32\n",
      " 17  pc 18   float32\n",
      " 18  pc 19   float32\n",
      " 19  pc 20   float32\n",
      " 20  pc 21   float32\n",
      " 21  pc 22   float32\n",
      " 22  pc 23   float32\n",
      " 23  pc 24   float32\n",
      " 24  Label   int8   \n",
      "dtypes: float32(24), int8(1)\n",
      "memory usage: 1.5 GB\n"
     ]
    }
   ],
   "source": [
    "pca_data2.info()"
   ]
  },
  {
   "cell_type": "markdown",
   "metadata": {},
   "source": [
    "### Finding correlation of the principal components"
   ]
  },
  {
   "cell_type": "code",
   "execution_count": 32,
   "metadata": {},
   "outputs": [
    {
     "data": {
      "image/png": "[encoded data removed]",
      "text/plain": [
       "<Figure size 2160x2160 with 2 Axes>"
      ]
     },
     "metadata": {
      "needs_background": "light"
     },
     "output_type": "display_data"
    }
   ],
   "source": [
    "correlation_matrix1 = pca_data2.corr()\n",
    "fig = plt.figure(figsize=(30,30))\n",
    "sns.heatmap(correlation_matrix1,square = True,annot=True)\n",
    "plt.show()"
   ]
  },
  {
   "cell_type": "code",
   "execution_count": 33,
   "metadata": {},
   "outputs": [
    {
     "ename": "",
     "evalue": "",
     "output_type": "error",
     "traceback": [
      "\u001b[1;31mThe Kernel crashed while executing code in the the current cell or a previous cell. Please review the code in the cell(s) to identify a possible cause of the failure. Click <a href='https://aka.ms/vscodeJupyterKernelCrash'>here</a> for more info. View Jupyter <a href='command:jupyter.viewOutput'>log</a> for further details."
     ]
    }
   ],
   "source": [
    "pd.DataFrame.to_csv(pca_data2,'./review-2/pca_data2.csv')"
   ]
  },
  {
   "cell_type": "code",
   "execution_count": null,
   "metadata": {},
   "outputs": [],
   "source": []
  }
 ],
 "metadata": {
  "kernelspec": {
   "display_name": "Python 3.11.0b1 64-bit",
   "language": "python",
   "name": "python3"
  },
  "language_info": {
   "name": "python",
   "version": "3.11.0"
  },
  "orig_nbformat": 4,
  "vscode": {
   "interpreter": {
    "hash": "ca3ed784184f1b3bb7c3539bfb45e71710cd27667424f92c2d5bb4df9c107c23"
   }
  }
 },
 "nbformat": 4,
 "nbformat_minor": 2
}
